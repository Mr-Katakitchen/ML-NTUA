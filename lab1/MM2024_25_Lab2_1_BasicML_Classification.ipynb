{
  "cells": [
    {
      "cell_type": "markdown",
      "metadata": {
        "id": "view-in-github",
        "colab_type": "text"
      },
      "source": [
        "<a href=\"https://colab.research.google.com/github/Mr-Katakitchen/ML-NTUA/blob/main/lab1/MM2024_25_Lab2_1_BasicML_Classification.ipynb\" target=\"_parent\"><img src=\"https://colab.research.google.com/assets/colab-badge.svg\" alt=\"Open In Colab\"/></a>"
      ]
    },
    {
      "cell_type": "markdown",
      "metadata": {
        "id": "O0oN_taRz1wn"
      },
      "source": [
        "⚠️\n",
        "Επισημαίνεται ότι η σχεδίαση και το περιεχόμενο του notebook αποτελούν αντικείμενο πνευματικής ιδιοκτησίας."
      ]
    },
    {
      "cell_type": "markdown",
      "metadata": {
        "id": "wA8wtNJ46Q-k"
      },
      "source": [
        "### Μάθηση = Αναπαράσταση + αξιολόγηση + βελτιστοποίηση\n",
        "\n",
        "*Learning = Representation + evaluation + optimization*\n",
        "\n",
        " Όλοι οι αλγόριθμοι μηχανικής μάθησης αποτελούνται από 3 στοιχεία:\n",
        " *  **Αναπαράσταση:** Ένα μοντέλο πρέπει να αναπαρίσταται με τρόπο κατάλληλο για να το διαχειριστεί ο υπολογιστής.\n",
        "   * Ορίζει τις «έννοιες» που μπορεί να μάθει, τον χώρο υποθέσεων Π.χ. ένα δέντρο αποφάσεων, ένα νευρωνικό δίκτυο, ένα σύνολο από σχολιασμένα σημεία δεδομένων\n",
        " * **Αξιολόγηση**: Ένας εσωτερικός τρόπος επιλογής μιας υπόθεσης έναντι μιας άλλης βασιζόμενοι σε κάποια αντικειμενική συνάρτηση, συνάρτηση βαθμολόγησης, συνάρτηση απώλειας π.χ. Διαφορά μεταξύ της σωστής τιμής εξόδου και των προβλέψεων.\n",
        " * **Βελτιστοποίηση:** Ένας αποτελεσματικός τρόπος αναζήτησης του χώρου της υπόθεσης. Ξεκινάμε από απλή υπόθεση, και ανάλογα επεκτείνουμε (χαλαρώνουμε) εάν δεν ταιριάζει με τα δεδομένα. Ξεκινάμε με ένα αρχικό σύνολο παραμέτρων μοντέλου, και το βελτιώνουμε σταδιακά.\n",
        "  * Υπάρχουν πολλές μέθοδοι που διαφέρουν π.χ.  στην ταχύτητα μάθησης.\n",
        "  * Ένα ισχυρό/ευέλικτο μοντέλο είναι χρήσιμο μόνο εάν μπορεί επίσης να βελτιστοποιηθεί αποτελεσματικά"
      ]
    },
    {
      "cell_type": "markdown",
      "metadata": {
        "id": "7cgiOPKDmFvC"
      },
      "source": [
        "### Συστήματα μηχανικής μάθησης\n",
        "\n",
        "Τα συστήματα μηχανικής μάθησης μαθαίνουν πώς να συνδυάζουν τα δεδομένα για να παράγουν χρήσιμες προβλέψεις σε δεδομένα που δεν έχουν δει ποτέ πριν.\n",
        "\n",
        "\n",
        "\n",
        "\n",
        "#### Σύνολα Δεδομένων\n",
        "\n",
        "Για να εφαρμόσουμε μεθόδους Μηχανικής Μάθησης χρειαζόμαστε έναν ελάχιστο όγκο δεδομένων, που αποκαλούμε **σύνολο δεδομένων (dataset)**\n",
        "  * Το σύνολο δεδομένων αποτελείται από έναν **αριθμό δειγμάτων (samples)**\n",
        "  * Κάθε δείγμα είναι ένα διάνυσμα που αποτελείται από **χαρακτηριστικά (features)**\n",
        "\n",
        "\n",
        "- Παράδειγμα από το γνωστό *dataset iris*\n",
        "\n",
        "![](https://drive.google.com/uc?id=1WJNpGkrIUqD55pLfmtXScHCOWoCJgtgj)\n",
        "\n",
        "\n",
        "#### Κατηγορίες Δεδομένων\n",
        "\n",
        "* **Δεδομένα με ετικέτες**\n",
        "   \n",
        "  Τι είναι η επισήμανση δεδομένων;\n",
        "\n",
        "    * Η επισήμανση δεδομένων αναφέρεται στη **διαδικασία προσθήκης ετικετών** σε ακατέργαστα δεδομένα όπως εικόνες, βίντεο, κείμενο, ήχος, διανυσματικές τιμές.\n",
        "\n",
        "    * Αυτές οι ετικέτες σχηματίζουν μια αναπαράσταση της κατηγορίας αντικειμένων στην οποία ανήκουν τα δεδομένα και βοηθούν ένα μοντέλο μηχανικής μάθησης να μάθει να αναγνωρίζει τη συγκεκριμένη κατηγορία αντικειμένων όταν συναντάται σε δεδομένα χωρίς ετικέτα.\n",
        "   \n",
        "*  **Δεδομένα χωρίς ετικέτες**\n",
        "\n",
        "\n",
        "\n",
        "![](https://drek4537l1klr.cloudfront.net/serrano/v-4/Figures/image011.png)\n",
        "\n",
        "\n",
        "---------\n",
        "### Κάποια από τα είδη μάθησης\n",
        "\n",
        "**Επιβλεπόμενη μάθηση**\n",
        "\n",
        "> Μηχανική μάθηση όπου χρησιμοποιείται επισημασμένο σύνολο δεδομένων για εκπαίδευση μοντέλων .\n",
        "\n",
        "**Μη επιβλεπόμενη μάθηση**\n",
        "\n",
        "> Μηχανική μάθηση όπου χρησιμοποιείται σύνολο δεδομένων χωρίς ετικέτες.\n",
        "\n",
        "\n",
        "\n",
        "\n"
      ]
    },
    {
      "cell_type": "markdown",
      "metadata": {
        "id": "VJ0GNWmWK_zK"
      },
      "source": [
        "\n",
        "#### Κατηγορίες επιβλεπόμενης μάθησης\n",
        "\n",
        "\n",
        "\n",
        "![](https://drive.google.com/uc?id=16lABEtXYfKSrlamtsbHHec9OTTPccPVP)"
      ]
    },
    {
      "cell_type": "markdown",
      "metadata": {
        "id": "TuK1Zh3sG4md"
      },
      "source": [
        "#### Τύποι ταξινόμησης (classification)\n",
        "Υπάρχουν δύο κύριοι τύποι ταξινόμησης:\n",
        "\n",
        "**Δυαδική ταξινόμηση (Binary classification)** - ταξινομεί τα δεδομένα με βάση διακριτές ή μη συνεχείς τιμές (συνήθως δύο τιμές). Για παράδειγμα, ένα ιατρικό τεστ μπορεί να ταξινομήσει τους ασθενείς σε αυτούς που έχουν μια συγκεκριμένη ασθένεια έναντι αυτών που δεν έχουν.\n",
        "\n",
        "**Ταξινόμηση πολλαπλών κατηγοριών (Multi-class Classification)** – ταξινομεί τα δεδομένα σε τρεις ή περισσότερες κατηγορίες. Για παράδειγμα, ιατρικό προφίλ που ταξινομεί τους ασθενείς σε άτομα με συμπτώματα μόλυνσης των νεφρών, του ήπατος, των πνευμόνων ή της ουροδόχου κύστης."
      ]
    },
    {
      "cell_type": "markdown",
      "metadata": {
        "id": "PuX1iaITl-tq"
      },
      "source": [
        "### Μοντέλo επιβλεπόμενης μάθησης\n",
        "\n",
        "* Ένα μοντέλο επιβλεπόμενης μάθησης ορίζει τη σχέση μεταξύ των χαρακτηριστικών ενός συνόλου δεδομένων με τις ετικέτες τους.\n",
        "\n",
        "\n",
        "`Ο απώτερος στόχος της δημιουργίας ενός μοντέλου επιβλεπόμενης μάθησης είναι όταν στην είσοδό του δεχθεί δεδομένα που δεν τα έχει \"δει\" προηγουμένως (δεδομένα που ανήκουν στο σύνολο ελέγχου-test set), να τα τοποθετεί στις αντίστοιχες κατηγορίες που διαθέτει.`\n",
        "\n",
        "\n",
        "* Για να δημιουργήσετε/εκπαιδεύσετε το μοντέλο σας, θα χρειαστεί να του παρέχετε δείγματα για κάθε κατηγορία-στόχο.\n",
        "\n",
        "\n",
        "* Ο **αλγόριθμος μάθησης** είναι οποιασδήποτε μορφής αλγόριθμος μηχανικής μάθησης που επιλέγουμε να χρησιμοποιηθεί από το σύνολο των δεδομένων μας.\n",
        "\n",
        "> Εκτός από τη μορφή του ίδιου του αλγορίθμου καθορίζουμε και τη μορφή της συνάρτησης κόστους που θα χρησιμοποιήσει ο αλγόριθμος.\n",
        "\n",
        "> Στόχος του αλγορίθμου είναι η βελτιστοποίηση της συνάρτησης κόστους.\n",
        "\n",
        "* Το **μοντέλο μηχανικής μάθησης** είναι η έξοδος του αλγορίθμου μάθησης. Εφαρμόζοντας σε αυτό τα δεδομένα ελέγχου, εξάγεται η προβλεπόμενη κατηγορία κάθε δείγματος των δεδομένων ελέγχου.\n",
        "\n",
        "\n",
        "#### Εκπαίδευση μοντέλου επιβλεπόμενης μάθησης\n",
        "![](https://drive.google.com/uc?id=1aWRoRzYSY8i_C4uHrUHXlgQ-GmgG41k2)\n",
        "\n",
        "\n",
        "**Βήμα 1:** Διαχωρίζουμε τα δεδομένα σε δεδομένα εκπαίδευσης (train set) και ελέγχου (test set).\n",
        "\n",
        "* Συνήθεις διαχωρισμοί είναι τα 70% -30% ή 80%-20%. Το μεγαλύτερο ποσοστό αντιστοιχεί στο train set και το μικρότερο στο test set.\n",
        "\n",
        "* Το test set θα χρησιμοποιηθεί μόνο στο τέλος για την εκτίμηση της γενίκευσης, δεν το \"βλέπει\" το μοντέλο κατά τη διάρκεια της εκπαίδευσης.\n",
        "\n",
        "\n",
        "**Βήμα 2:** Εμφανίζουμε τα δείγματα από το train set μαζί με την ετικέτα τους στην είσοδο του μοντέλου και δίνουμε τη δυνατότητα στο μοντέλο να μαθαίνει σταδιακά τις σχέσεις μεταξύ χαρακτηριστικών και ετικέτας.\n",
        "\n",
        "\n",
        "**Βήμα 3**\n",
        "Εφαρμόζουμε στο εκπαιδευμένο μοντέλο από το test set μόνο τα δείγματα χωρίς την ετικέτα τους.\n",
        "\n",
        "**Βήμα 4**\n",
        "Συγκρίνουμε την έξοδο του μοντέλου σε σχέση με τις αντίστοιχες ετικέτες του test set και  αξιολογήσουμε στατιστικά την απόδοση του μοντέλου μας.\n",
        "\n",
        "\n",
        "---"
      ]
    },
    {
      "cell_type": "markdown",
      "metadata": {
        "id": "ja0Tuf0LlGqF"
      },
      "source": [
        "#### Πώς να κάνετε ταξινόμηση με το Scikit-Learn\n",
        "\n",
        "Το scikit-learn διαθέτει πλήθος αλγόριθμων ταξινόμησης (γνωστοί και ως ταξινομητές), όπως:\n",
        "* **Decision Tree/Random Forest**\n",
        "* **k-Nearest Neighbors (kNN)**\n",
        "* **Linear Discriminant Analysis**\n",
        "* **Logistic Regression**\n",
        "* **Naive Bayes**\n",
        "* **Support Vector Machine**"
      ]
    },
    {
      "cell_type": "markdown",
      "metadata": {
        "id": "3i2-3Wo9PYmM"
      },
      "source": [
        "#### Άσκηση\n",
        "\n",
        "> Έστω ότι θέλουμε να φτιάξουμε μια εφαρμογή για smartphone που προσδιορίζει αυτόματα είδη λουλουδιών από φωτογραφίες που τραβήχτηκαν στο smartphone.\n",
        "\n",
        "* Θα πρέπει ο αλγόριθμός μας να λαμβάνει τέσσερις μετρήσεις για τα λουλούδια (μήκος σέπαλου, πλάτος σέπαλου, μήκος και πλάτος πετάλου) και να προσδιορίζει τα είδη με βάση αυτές τις μετρήσεις και μόνο.\n",
        "\n",
        "* Μας έχει δόθηκε ένα σύνολο δεδομένων από ερευνητές του πεδίου, το οποίο περιλαμβάνει μόνο μετρήσεις για τρεις τύπους λουλουδιών ίριδας: *Iris setosa Iris versicolor Iris virginica*.\n",
        "\n",
        "* Οι τέσσερις μετρήσεις που χρησιμοποιούμε αυτήν τη στιγμή προέρχονται από επιτόπιες μετρήσεις από σχετικούς ερευνητές, αλλά στο μέλλον θα μετρώνται αυτόματα από ένα μοντέλο επεξεργασίας εικόνας.\n",
        "\n",
        "*Σημείωση:* Το σύνολο δεδομένων με το οποίο εργαζόμαστε είναι το γνωστό σύνολο δεδομένων Iris.\n",
        "\n",
        "\n",
        "---\n",
        "\n",
        "\n",
        "Σε οποιοδήποτε σύστημα μηχανικής μάθησης δεδομένων πρέπει αρχικά να ορίσουμε το πρόβλημα που θέλουμε να λύσουμε και να ορίσουμε ένα μέτρο (ή σύνολο μέτρων) για την επιτυχία μας στην επίλυση αυτού του προβλήματος.\n",
        "\n",
        "> 💡 Προσδιορίστε τον τύπο του προβλήματος που καλείστε να λύσετε;\n",
        "\n",
        "* Προσπαθούμε να ταξινομήσουμε το είδος (δηλαδή, την κατηγορία) του λουλουδιού με βάση τέσσερις μετρήσεις που μας παρέχονται: μήκος σέπαλου, πλάτος σέπαλου, μήκος πετάλου και πλάτος πετάλου.\n",
        "\n",
        "* Το μέγεθος των δεδομένων μας είναι μικρό (150 δείγματα).\n",
        "\n",
        "\n",
        "![](https://scikit-learn.org/stable/_static/ml_map.png)\n",
        "\n",
        "\n",
        "> 💡 Ορίστε ένα μέτρο (ή σύνολο μέτρων) για την επιτυχία μας στην επίλυση αυτού του προβλήματος;\n",
        "\n",
        "\n",
        "* Εφόσον εκτελούμε ταξινόμηση, μπορούμε να χρησιμοποιήσουμε ως μέτρο την ορθότητα (accuracy).\n",
        "\n",
        "\n",
        "\n",
        "\n",
        "> 💡 Κατανοήστε το πλαίσιο του προβλήματος:  πρόκειται για επιστημονική ή επιχειρηματική εφαρμογή;\n",
        "\n",
        "Κατασκευάζουμε ένα μέρος μιας εφαρμογής smartphone που θα μπορεί να ταξινομεί τα είδη λουλουδιών από φωτογραφίες που λαμβάνονται στο smartphone. Στο μέλλον,π.χ. αυτή η εφαρμογή θα μπορεί να επεκταθεί και να υπολογίζει αυτόματα από εικόνες τα χαρακτηριστικά που χρησιμοποιούμε για την εκτέλεση αυτής της ταξινόμησης.\n",
        "\n",
        "\n",
        "> Παρατηρήστε ότι έχουμε αφιερώσει αρκετό χρόνο για να λύσουμε το πρόβλημα χωρίς να γράψουμε μια γραμμή κώδικα ή ακόμη και να εξετάσουμε τα δεδομένα.\n",
        "\n",
        "> Η σκέψη και η τεκμηρίωση του προβλήματος που εργαζόμαστε είναι ένα σημαντικό στάδιο  για την εκτέλεση αποτελεσματικής ανάλυσης δεδομένων που συχνά παραβλέπεται.\n",
        "\n",
        "\n",
        "\n",
        "**2o στάδιο:** Το επόμενο βήμα είναι να εξετάσουμε τα δεδομένα με τα οποία εργαζόμαστε. Ακόμη και επιμελημένα σύνολα δεδομένων μπορεί να έχουν σφάλματα και είναι ζωτικής σημασίας να εντοπίσουμε αυτά τα σφάλματα προτού επενδύσουμε πολύ χρόνο στην ανάλυσή μας.\n",
        "\n",
        "> 💡 Γενικά, αναζητούμε να απαντήσουμε στις ακόλουθες ερωτήσεις:\n",
        "* Υπάρχει κάποιο πρόβλημα με τα δεδομένα;\n",
        "* Υπάρχουν ιδιορρυθμίες με τα δεδομένα;\n",
        "* Χρειάζεται να διορθώσω ή να αφαιρέσω κάποιο από τα δεδομένα;\n",
        "\n",
        "Ας ξεκινήσουμε χρησιμοποιώντας τη βιβλιοθήκη scikit-learn για να φορτώσουμε το σύνολο δεδομένων και να το μελετήσουμε\n"
      ]
    },
    {
      "cell_type": "markdown",
      "metadata": {
        "id": "pOPky6xyRGRs"
      },
      "source": [
        "**Φόρτωση συνόλου δεδομένων κατευθείαν από τη βιβλιοθήκη του scikit-learn** (διαθέτει γνωστά σύνολα δεδομένων)"
      ]
    },
    {
      "cell_type": "code",
      "execution_count": 2,
      "metadata": {
        "id": "z1uirGVkN4o-"
      },
      "outputs": [],
      "source": [
        "# Load Iris and organize our data\n",
        "from sklearn.datasets import load_iris\n",
        "data = load_iris()\n",
        "label_names = data['target_names']\n",
        "labels = data['target']\n",
        "feature_names = data['feature_names']\n",
        "features = data['data']"
      ]
    },
    {
      "cell_type": "code",
      "execution_count": 3,
      "metadata": {
        "colab": {
          "base_uri": "https://localhost:8080/"
        },
        "id": "KSoLp7_UN4pB",
        "outputId": "5eb15be1-50e9-420a-ceee-1e186a97dfeb"
      },
      "outputs": [
        {
          "output_type": "stream",
          "name": "stdout",
          "text": [
            "['sepal length (cm)', 'sepal width (cm)', 'petal length (cm)', 'petal width (cm)']\n",
            "['setosa' 'versicolor' 'virginica']\n"
          ]
        }
      ],
      "source": [
        "# Ας τυπώσουμε τα ονόματα των χαρακτηριστικών\n",
        "print(feature_names)\n",
        "print(label_names)"
      ]
    },
    {
      "cell_type": "code",
      "execution_count": 4,
      "metadata": {
        "colab": {
          "base_uri": "https://localhost:8080/"
        },
        "id": "7VmeUwFJWGDv",
        "outputId": "b8329055-f44e-4209-f145-aa83bcdac2e6"
      },
      "outputs": [
        {
          "output_type": "execute_result",
          "data": {
            "text/plain": [
              "(150, 4)"
            ]
          },
          "metadata": {},
          "execution_count": 4
        }
      ],
      "source": [
        "# convert to dataframe for processing\n",
        "import pandas as pd\n",
        "\n",
        "iris = pd.DataFrame(features, columns=feature_names)\n",
        "iris.shape"
      ]
    },
    {
      "cell_type": "markdown",
      "metadata": {
        "id": "7F6yDgkyBPK_"
      },
      "source": [
        "#### Προεπεξεργασία δεδομένων\n",
        "\n",
        "Το iris dataset είναι ένα ισορροπημένο σύνολο, 50 δειγμάτων ανά κατηγορία,χωρίς ιδιορρυθμίες."
      ]
    },
    {
      "cell_type": "code",
      "execution_count": 5,
      "metadata": {
        "colab": {
          "base_uri": "https://localhost:8080/"
        },
        "id": "hlP9bdDUZBEY",
        "outputId": "db75ee54-8c62-4dcf-c3df-259702bb90ce"
      },
      "outputs": [
        {
          "output_type": "stream",
          "name": "stdout",
          "text": [
            "<class 'pandas.core.frame.DataFrame'>\n",
            "RangeIndex: 150 entries, 0 to 149\n",
            "Data columns (total 4 columns):\n",
            " #   Column             Non-Null Count  Dtype  \n",
            "---  ------             --------------  -----  \n",
            " 0   sepal length (cm)  150 non-null    float64\n",
            " 1   sepal width (cm)   150 non-null    float64\n",
            " 2   petal length (cm)  150 non-null    float64\n",
            " 3   petal width (cm)   150 non-null    float64\n",
            "dtypes: float64(4)\n",
            "memory usage: 4.8 KB\n"
          ]
        }
      ],
      "source": [
        "iris.info()"
      ]
    },
    {
      "cell_type": "code",
      "execution_count": 6,
      "metadata": {
        "colab": {
          "base_uri": "https://localhost:8080/",
          "height": 320
        },
        "id": "1Trs4MnGYPQ_",
        "outputId": "7dad3342-6370-402d-e8c5-7f21685db4c5"
      },
      "outputs": [
        {
          "output_type": "execute_result",
          "data": {
            "text/plain": [
              "       sepal length (cm)  sepal width (cm)  petal length (cm)  \\\n",
              "count         150.000000        150.000000         150.000000   \n",
              "mean            5.843333          3.057333           3.758000   \n",
              "std             0.828066          0.435866           1.765298   \n",
              "min             4.300000          2.000000           1.000000   \n",
              "25%             5.100000          2.800000           1.600000   \n",
              "50%             5.800000          3.000000           4.350000   \n",
              "75%             6.400000          3.300000           5.100000   \n",
              "max             7.900000          4.400000           6.900000   \n",
              "\n",
              "       petal width (cm)  \n",
              "count        150.000000  \n",
              "mean           1.199333  \n",
              "std            0.762238  \n",
              "min            0.100000  \n",
              "25%            0.300000  \n",
              "50%            1.300000  \n",
              "75%            1.800000  \n",
              "max            2.500000  "
            ],
            "text/html": [
              "\n",
              "  <div id=\"df-6350e312-ce4d-4f11-bc21-9441353e905f\" class=\"colab-df-container\">\n",
              "    <div>\n",
              "<style scoped>\n",
              "    .dataframe tbody tr th:only-of-type {\n",
              "        vertical-align: middle;\n",
              "    }\n",
              "\n",
              "    .dataframe tbody tr th {\n",
              "        vertical-align: top;\n",
              "    }\n",
              "\n",
              "    .dataframe thead th {\n",
              "        text-align: right;\n",
              "    }\n",
              "</style>\n",
              "<table border=\"1\" class=\"dataframe\">\n",
              "  <thead>\n",
              "    <tr style=\"text-align: right;\">\n",
              "      <th></th>\n",
              "      <th>sepal length (cm)</th>\n",
              "      <th>sepal width (cm)</th>\n",
              "      <th>petal length (cm)</th>\n",
              "      <th>petal width (cm)</th>\n",
              "    </tr>\n",
              "  </thead>\n",
              "  <tbody>\n",
              "    <tr>\n",
              "      <th>count</th>\n",
              "      <td>150.000000</td>\n",
              "      <td>150.000000</td>\n",
              "      <td>150.000000</td>\n",
              "      <td>150.000000</td>\n",
              "    </tr>\n",
              "    <tr>\n",
              "      <th>mean</th>\n",
              "      <td>5.843333</td>\n",
              "      <td>3.057333</td>\n",
              "      <td>3.758000</td>\n",
              "      <td>1.199333</td>\n",
              "    </tr>\n",
              "    <tr>\n",
              "      <th>std</th>\n",
              "      <td>0.828066</td>\n",
              "      <td>0.435866</td>\n",
              "      <td>1.765298</td>\n",
              "      <td>0.762238</td>\n",
              "    </tr>\n",
              "    <tr>\n",
              "      <th>min</th>\n",
              "      <td>4.300000</td>\n",
              "      <td>2.000000</td>\n",
              "      <td>1.000000</td>\n",
              "      <td>0.100000</td>\n",
              "    </tr>\n",
              "    <tr>\n",
              "      <th>25%</th>\n",
              "      <td>5.100000</td>\n",
              "      <td>2.800000</td>\n",
              "      <td>1.600000</td>\n",
              "      <td>0.300000</td>\n",
              "    </tr>\n",
              "    <tr>\n",
              "      <th>50%</th>\n",
              "      <td>5.800000</td>\n",
              "      <td>3.000000</td>\n",
              "      <td>4.350000</td>\n",
              "      <td>1.300000</td>\n",
              "    </tr>\n",
              "    <tr>\n",
              "      <th>75%</th>\n",
              "      <td>6.400000</td>\n",
              "      <td>3.300000</td>\n",
              "      <td>5.100000</td>\n",
              "      <td>1.800000</td>\n",
              "    </tr>\n",
              "    <tr>\n",
              "      <th>max</th>\n",
              "      <td>7.900000</td>\n",
              "      <td>4.400000</td>\n",
              "      <td>6.900000</td>\n",
              "      <td>2.500000</td>\n",
              "    </tr>\n",
              "  </tbody>\n",
              "</table>\n",
              "</div>\n",
              "    <div class=\"colab-df-buttons\">\n",
              "\n",
              "  <div class=\"colab-df-container\">\n",
              "    <button class=\"colab-df-convert\" onclick=\"convertToInteractive('df-6350e312-ce4d-4f11-bc21-9441353e905f')\"\n",
              "            title=\"Convert this dataframe to an interactive table.\"\n",
              "            style=\"display:none;\">\n",
              "\n",
              "  <svg xmlns=\"http://www.w3.org/2000/svg\" height=\"24px\" viewBox=\"0 -960 960 960\">\n",
              "    <path d=\"M120-120v-720h720v720H120Zm60-500h600v-160H180v160Zm220 220h160v-160H400v160Zm0 220h160v-160H400v160ZM180-400h160v-160H180v160Zm440 0h160v-160H620v160ZM180-180h160v-160H180v160Zm440 0h160v-160H620v160Z\"/>\n",
              "  </svg>\n",
              "    </button>\n",
              "\n",
              "  <style>\n",
              "    .colab-df-container {\n",
              "      display:flex;\n",
              "      gap: 12px;\n",
              "    }\n",
              "\n",
              "    .colab-df-convert {\n",
              "      background-color: #E8F0FE;\n",
              "      border: none;\n",
              "      border-radius: 50%;\n",
              "      cursor: pointer;\n",
              "      display: none;\n",
              "      fill: #1967D2;\n",
              "      height: 32px;\n",
              "      padding: 0 0 0 0;\n",
              "      width: 32px;\n",
              "    }\n",
              "\n",
              "    .colab-df-convert:hover {\n",
              "      background-color: #E2EBFA;\n",
              "      box-shadow: 0px 1px 2px rgba(60, 64, 67, 0.3), 0px 1px 3px 1px rgba(60, 64, 67, 0.15);\n",
              "      fill: #174EA6;\n",
              "    }\n",
              "\n",
              "    .colab-df-buttons div {\n",
              "      margin-bottom: 4px;\n",
              "    }\n",
              "\n",
              "    [theme=dark] .colab-df-convert {\n",
              "      background-color: #3B4455;\n",
              "      fill: #D2E3FC;\n",
              "    }\n",
              "\n",
              "    [theme=dark] .colab-df-convert:hover {\n",
              "      background-color: #434B5C;\n",
              "      box-shadow: 0px 1px 3px 1px rgba(0, 0, 0, 0.15);\n",
              "      filter: drop-shadow(0px 1px 2px rgba(0, 0, 0, 0.3));\n",
              "      fill: #FFFFFF;\n",
              "    }\n",
              "  </style>\n",
              "\n",
              "    <script>\n",
              "      const buttonEl =\n",
              "        document.querySelector('#df-6350e312-ce4d-4f11-bc21-9441353e905f button.colab-df-convert');\n",
              "      buttonEl.style.display =\n",
              "        google.colab.kernel.accessAllowed ? 'block' : 'none';\n",
              "\n",
              "      async function convertToInteractive(key) {\n",
              "        const element = document.querySelector('#df-6350e312-ce4d-4f11-bc21-9441353e905f');\n",
              "        const dataTable =\n",
              "          await google.colab.kernel.invokeFunction('convertToInteractive',\n",
              "                                                    [key], {});\n",
              "        if (!dataTable) return;\n",
              "\n",
              "        const docLinkHtml = 'Like what you see? Visit the ' +\n",
              "          '<a target=\"_blank\" href=https://colab.research.google.com/notebooks/data_table.ipynb>data table notebook</a>'\n",
              "          + ' to learn more about interactive tables.';\n",
              "        element.innerHTML = '';\n",
              "        dataTable['output_type'] = 'display_data';\n",
              "        await google.colab.output.renderOutput(dataTable, element);\n",
              "        const docLink = document.createElement('div');\n",
              "        docLink.innerHTML = docLinkHtml;\n",
              "        element.appendChild(docLink);\n",
              "      }\n",
              "    </script>\n",
              "  </div>\n",
              "\n",
              "\n",
              "<div id=\"df-821dc02a-0cda-4289-b474-0311b498e22e\">\n",
              "  <button class=\"colab-df-quickchart\" onclick=\"quickchart('df-821dc02a-0cda-4289-b474-0311b498e22e')\"\n",
              "            title=\"Suggest charts\"\n",
              "            style=\"display:none;\">\n",
              "\n",
              "<svg xmlns=\"http://www.w3.org/2000/svg\" height=\"24px\"viewBox=\"0 0 24 24\"\n",
              "     width=\"24px\">\n",
              "    <g>\n",
              "        <path d=\"M19 3H5c-1.1 0-2 .9-2 2v14c0 1.1.9 2 2 2h14c1.1 0 2-.9 2-2V5c0-1.1-.9-2-2-2zM9 17H7v-7h2v7zm4 0h-2V7h2v10zm4 0h-2v-4h2v4z\"/>\n",
              "    </g>\n",
              "</svg>\n",
              "  </button>\n",
              "\n",
              "<style>\n",
              "  .colab-df-quickchart {\n",
              "      --bg-color: #E8F0FE;\n",
              "      --fill-color: #1967D2;\n",
              "      --hover-bg-color: #E2EBFA;\n",
              "      --hover-fill-color: #174EA6;\n",
              "      --disabled-fill-color: #AAA;\n",
              "      --disabled-bg-color: #DDD;\n",
              "  }\n",
              "\n",
              "  [theme=dark] .colab-df-quickchart {\n",
              "      --bg-color: #3B4455;\n",
              "      --fill-color: #D2E3FC;\n",
              "      --hover-bg-color: #434B5C;\n",
              "      --hover-fill-color: #FFFFFF;\n",
              "      --disabled-bg-color: #3B4455;\n",
              "      --disabled-fill-color: #666;\n",
              "  }\n",
              "\n",
              "  .colab-df-quickchart {\n",
              "    background-color: var(--bg-color);\n",
              "    border: none;\n",
              "    border-radius: 50%;\n",
              "    cursor: pointer;\n",
              "    display: none;\n",
              "    fill: var(--fill-color);\n",
              "    height: 32px;\n",
              "    padding: 0;\n",
              "    width: 32px;\n",
              "  }\n",
              "\n",
              "  .colab-df-quickchart:hover {\n",
              "    background-color: var(--hover-bg-color);\n",
              "    box-shadow: 0 1px 2px rgba(60, 64, 67, 0.3), 0 1px 3px 1px rgba(60, 64, 67, 0.15);\n",
              "    fill: var(--button-hover-fill-color);\n",
              "  }\n",
              "\n",
              "  .colab-df-quickchart-complete:disabled,\n",
              "  .colab-df-quickchart-complete:disabled:hover {\n",
              "    background-color: var(--disabled-bg-color);\n",
              "    fill: var(--disabled-fill-color);\n",
              "    box-shadow: none;\n",
              "  }\n",
              "\n",
              "  .colab-df-spinner {\n",
              "    border: 2px solid var(--fill-color);\n",
              "    border-color: transparent;\n",
              "    border-bottom-color: var(--fill-color);\n",
              "    animation:\n",
              "      spin 1s steps(1) infinite;\n",
              "  }\n",
              "\n",
              "  @keyframes spin {\n",
              "    0% {\n",
              "      border-color: transparent;\n",
              "      border-bottom-color: var(--fill-color);\n",
              "      border-left-color: var(--fill-color);\n",
              "    }\n",
              "    20% {\n",
              "      border-color: transparent;\n",
              "      border-left-color: var(--fill-color);\n",
              "      border-top-color: var(--fill-color);\n",
              "    }\n",
              "    30% {\n",
              "      border-color: transparent;\n",
              "      border-left-color: var(--fill-color);\n",
              "      border-top-color: var(--fill-color);\n",
              "      border-right-color: var(--fill-color);\n",
              "    }\n",
              "    40% {\n",
              "      border-color: transparent;\n",
              "      border-right-color: var(--fill-color);\n",
              "      border-top-color: var(--fill-color);\n",
              "    }\n",
              "    60% {\n",
              "      border-color: transparent;\n",
              "      border-right-color: var(--fill-color);\n",
              "    }\n",
              "    80% {\n",
              "      border-color: transparent;\n",
              "      border-right-color: var(--fill-color);\n",
              "      border-bottom-color: var(--fill-color);\n",
              "    }\n",
              "    90% {\n",
              "      border-color: transparent;\n",
              "      border-bottom-color: var(--fill-color);\n",
              "    }\n",
              "  }\n",
              "</style>\n",
              "\n",
              "  <script>\n",
              "    async function quickchart(key) {\n",
              "      const quickchartButtonEl =\n",
              "        document.querySelector('#' + key + ' button');\n",
              "      quickchartButtonEl.disabled = true;  // To prevent multiple clicks.\n",
              "      quickchartButtonEl.classList.add('colab-df-spinner');\n",
              "      try {\n",
              "        const charts = await google.colab.kernel.invokeFunction(\n",
              "            'suggestCharts', [key], {});\n",
              "      } catch (error) {\n",
              "        console.error('Error during call to suggestCharts:', error);\n",
              "      }\n",
              "      quickchartButtonEl.classList.remove('colab-df-spinner');\n",
              "      quickchartButtonEl.classList.add('colab-df-quickchart-complete');\n",
              "    }\n",
              "    (() => {\n",
              "      let quickchartButtonEl =\n",
              "        document.querySelector('#df-821dc02a-0cda-4289-b474-0311b498e22e button');\n",
              "      quickchartButtonEl.style.display =\n",
              "        google.colab.kernel.accessAllowed ? 'block' : 'none';\n",
              "    })();\n",
              "  </script>\n",
              "</div>\n",
              "\n",
              "    </div>\n",
              "  </div>\n"
            ],
            "application/vnd.google.colaboratory.intrinsic+json": {
              "type": "dataframe",
              "summary": "{\n  \"name\": \"iris\",\n  \"rows\": 8,\n  \"fields\": [\n    {\n      \"column\": \"sepal length (cm)\",\n      \"properties\": {\n        \"dtype\": \"number\",\n        \"std\": 51.24711349471842,\n        \"min\": 0.8280661279778629,\n        \"max\": 150.0,\n        \"num_unique_values\": 8,\n        \"samples\": [\n          5.843333333333334,\n          5.8,\n          150.0\n        ],\n        \"semantic_type\": \"\",\n        \"description\": \"\"\n      }\n    },\n    {\n      \"column\": \"sepal width (cm)\",\n      \"properties\": {\n        \"dtype\": \"number\",\n        \"std\": 52.08617800869866,\n        \"min\": 0.435866284936698,\n        \"max\": 150.0,\n        \"num_unique_values\": 8,\n        \"samples\": [\n          3.0573333333333337,\n          3.0,\n          150.0\n        ],\n        \"semantic_type\": \"\",\n        \"description\": \"\"\n      }\n    },\n    {\n      \"column\": \"petal length (cm)\",\n      \"properties\": {\n        \"dtype\": \"number\",\n        \"std\": 51.83521261418364,\n        \"min\": 1.0,\n        \"max\": 150.0,\n        \"num_unique_values\": 8,\n        \"samples\": [\n          3.7580000000000005,\n          4.35,\n          150.0\n        ],\n        \"semantic_type\": \"\",\n        \"description\": \"\"\n      }\n    },\n    {\n      \"column\": \"petal width (cm)\",\n      \"properties\": {\n        \"dtype\": \"number\",\n        \"std\": 52.636648242617504,\n        \"min\": 0.1,\n        \"max\": 150.0,\n        \"num_unique_values\": 8,\n        \"samples\": [\n          1.1993333333333336,\n          1.3,\n          150.0\n        ],\n        \"semantic_type\": \"\",\n        \"description\": \"\"\n      }\n    }\n  ]\n}"
            }
          },
          "metadata": {},
          "execution_count": 6
        }
      ],
      "source": [
        "iris.describe()"
      ]
    },
    {
      "cell_type": "markdown",
      "metadata": {
        "id": "4lpAI1qxBYqC"
      },
      "source": [
        "####  Διαχωρισμός δεδομένων"
      ]
    },
    {
      "cell_type": "code",
      "execution_count": 8,
      "metadata": {
        "id": "HIZ_g3-MN4pG"
      },
      "outputs": [],
      "source": [
        "# Χρησιμοποιούμε τo train_test_split για να διαχωρίσουμε σε train και test set\n",
        "# το (int) όρισμα \"random_state\" είναι το seed της γεννήτριας τυχαίων αριθμών - βάζουμε πάντα το ίδιο αριθμό ώστε να λαμβάνουμε το ίδιο train -test set μετά το split των αρχικών δεδομένων\n",
        "import numpy as np\n",
        "\n",
        "from sklearn.model_selection import train_test_split\n",
        "\n",
        "X_train, X_test, y_train, y_test = train_test_split(features, labels, test_size=0.40, random_state=78)"
      ]
    },
    {
      "cell_type": "markdown",
      "metadata": {
        "id": "gnNrNsNkBlHd"
      },
      "source": [
        "#### Εκπαίδευση μοντέλου"
      ]
    },
    {
      "cell_type": "markdown",
      "metadata": {
        "id": "m0D806YqN4pJ"
      },
      "source": [
        "Εκπαιδεύουμε ένα kNN classifier χρησιμοποιώντας το train dataset και κάνουμε προβλέψεις χρησιμοποιώντας το test dataset."
      ]
    },
    {
      "cell_type": "code",
      "execution_count": null,
      "metadata": {
        "colab": {
          "base_uri": "https://localhost:8080/"
        },
        "id": "X1vVA6_zN4pK",
        "outputId": "a20e5602-ba60-4072-8e5b-4081d90476a9"
      },
      "outputs": [
        {
          "output_type": "stream",
          "name": "stdout",
          "text": [
            "Labels' prediction  [2 2 2 1 1 1 1 0 1 2 2 1 2 0 1 1 1 1 0 0 0 2 2 0 1 1 1 0 1 2 2 2 2 1 0 0 2\n",
            " 0 1 0 1 2 2 1 2 0 0 0 2 0 2 0 1 0 1 1 1 0 0 0]\n",
            "Labels from test set [2 2 2 1 1 1 1 0 1 2 2 1 2 0 1 1 1 1 0 0 0 1 2 0 1 1 1 0 1 2 2 2 2 1 0 0 2\n",
            " 0 1 0 1 2 2 1 2 0 0 0 2 0 2 0 1 0 1 1 1 0 0 0]\n"
          ]
        }
      ],
      "source": [
        "from sklearn.neighbors import KNeighborsClassifier\n",
        "\n",
        "# Initialize classifier:\n",
        "knn = KNeighborsClassifier(n_neighbors=5)\n",
        "\n",
        "# Train the classifier:\n",
        "knn.fit(X_train, y_train)\n",
        "\n",
        "# Make predictions with the classifier:\n",
        "pred = knn.predict(X_test)\n",
        "\n",
        "print(\"Labels' prediction \",pred)\n",
        "\n",
        "print(\"Labels from test set\",y_test)\n"
      ]
    },
    {
      "cell_type": "markdown",
      "metadata": {
        "id": "9LEa-G8WJTbj"
      },
      "source": [
        "Εκπαιδεύουμε ένα Gaussian Naive Bayes classifier χρησιμοποιώντας το train dataset και κάνουμε προβλέψεις χρησιμοποιώντας το test dataset."
      ]
    },
    {
      "cell_type": "code",
      "execution_count": 11,
      "metadata": {
        "colab": {
          "base_uri": "https://localhost:8080/"
        },
        "id": "LBjisPXkGqDV",
        "outputId": "dfe40102-5eca-422a-d365-eeba21bbc450"
      },
      "outputs": [
        {
          "output_type": "stream",
          "name": "stdout",
          "text": [
            "Labels' prediction  [0 0 0 1 1 0 1 2 1 2 1 2 0 2 2 2 1 2 0 2 2 0 2 0 0 1 1 2 2 0 2 0 2 1 0 1 2\n",
            " 1 0 0 0 0 1 0 0 2 1 2 2 2 0 2 1 1 1 0 1 2 1 1]\n",
            "Labels from test set [0 0 0 1 1 0 1 2 1 2 1 1 0 2 2 2 1 2 0 2 2 0 2 0 0 1 1 2 2 0 2 0 1 1 0 1 2\n",
            " 1 0 0 0 0 1 0 0 2 2 2 2 2 0 2 1 1 1 0 1 2 1 1]\n"
          ]
        }
      ],
      "source": [
        "# Import Gaussian Naive Bayes classifier:\n",
        "from sklearn.naive_bayes import GaussianNB\n",
        "\n",
        "# Initialize classifier:\n",
        "gnb = GaussianNB()\n",
        "\n",
        "# Train the classifier:\n",
        "model = gnb.fit(X_train, y_train)\n",
        "\n",
        "# Make predictions with the classifier:\n",
        "predictive_labels = gnb.predict(X_test)\n",
        "\n",
        "print(\"Labels' prediction \",predictive_labels)\n",
        "\n",
        "print(\"Labels from test set\",y_test)\n",
        "\n",
        "\n"
      ]
    },
    {
      "cell_type": "markdown",
      "metadata": {
        "id": "cbdP-S5zGdhX"
      },
      "source": [
        "#### Μετρικές απόδοσης"
      ]
    },
    {
      "cell_type": "markdown",
      "metadata": {
        "id": "Swg5-nF2pbsx"
      },
      "source": [
        "Η βάση για τις μετρικές απόδοσης των ταξινομητών είναι ο **πίνακας σύγχυσης (confusion matrix)**. O πίνακας σύχγυσης $C$  είναι τέτοιος ώστε το $C_{i, j}$ είναι ίσο με τα δείγματα που ενώ ανήκουν στην κατηγορία $i$ ταξινομήθηκαν στην κατηγορία  $j$. Για το Iris, στο συγκεκριμένο train/test split, o πίνακας σύγχυσης είναι:"
      ]
    },
    {
      "cell_type": "code",
      "execution_count": null,
      "metadata": {
        "colab": {
          "base_uri": "https://localhost:8080/"
        },
        "id": "r6MacvtQB2J-",
        "outputId": "5866cbc5-f20e-4a4f-94a4-765cdde484ea"
      },
      "outputs": [
        {
          "output_type": "stream",
          "name": "stdout",
          "text": [
            "['setosa' 'versicolor' 'virginica'] \n",
            "\n",
            "[[20  0  0]\n",
            " [ 0 22  1]\n",
            " [ 0  0 17]]\n"
          ]
        }
      ],
      "source": [
        "from sklearn.metrics import confusion_matrix\n",
        "# Compute confusion matrix\n",
        "cnf_matrix = confusion_matrix(y_test, pred)\n",
        "  # τυπώνουμε τα labels\n",
        "print(label_names, \"\\n\")\n",
        "  # τυπώνουμε το confusion matrix\n",
        "print(cnf_matrix)\n"
      ]
    },
    {
      "cell_type": "markdown",
      "metadata": {
        "id": "UUP5FyOdN4pe"
      },
      "source": [
        "που σημαίνει ότι 1 δείγμα που άνηκε κανονικά στο είδος _I.versicolor_ ταξινομήθηκε λανθασμένα στο είδος _I.virginica_. Τα στοιχεία της διαγωνίου είναι αληθινά θετικά δείγματα (true positive) της κάθε κατηγορίας.\n",
        "\n",
        "Για κάθε κατηγορία $i$ τα στοιχεία της γραμμής $i$ εκτός της διαγωνίου είναι λανθασμένα αρνητικά δείγματα (false negative) της κατηγορίας και τα στοιχεία της κολώνας $i$ εκτός της διαγωνίου είναι λανθασμένα θετικά δείγματα (false positive) της κατηγορίας.\n"
      ]
    },
    {
      "cell_type": "markdown",
      "metadata": {
        "id": "vkdAsi-CqA9y"
      },
      "source": [
        "**Ορθότητα (accuracy)**\n",
        "\n",
        "Η ορθότητα (accuracy) είναι μια μέτρηση για την αξιολόγηση μοντέλων ταξινόμησης. Ουσιαστικά είναι ένας τρόπος για να μετρήσουμε πόσο συχνά το εκπαιδευμένο μοντέλο ταξινομεί σωστά ένα δείγμα από τα δεδομένα ελέγχου.\n",
        "\n",
        "**Accuracy = Number of correct predictions / Total number of predictions**\n",
        "\n",
        "\n",
        "Η ορθότητα (ή πιστότητα) είναι μια πολύ χρήσιμη και πρακτική μετρική της απόδοσης ενός ταξινομητή. Ωστόσο, δεν αρκεί για μια ολοκληρωμένη μελέτη της απόδοσής του. Είναι τυπικό για όλα τα προβλήματα μηχανικής μάθησης να χρησιμοποιούμε διαφορετικές μετρικές για να μελετήσουμε τις ιδιότητες των δεδομένων.\n"
      ]
    },
    {
      "cell_type": "code",
      "execution_count": null,
      "metadata": {
        "colab": {
          "base_uri": "https://localhost:8080/"
        },
        "id": "wzn1qaC1GlBZ",
        "outputId": "f452346a-6e7e-43bc-e9b2-15861b0d27fb"
      },
      "outputs": [
        {
          "output_type": "stream",
          "name": "stdout",
          "text": [
            "0.9833333333333333\n",
            "0.9666666666666667\n"
          ]
        }
      ],
      "source": [
        "from sklearn.metrics import accuracy_score\n",
        "# Evaluate label (test set ) accuracy of kNN classifier:\n",
        "print(accuracy_score(y_test, pred))  # ορθότητα\n",
        "\n",
        "# Evaluate label (test set) accuracy of Gaussian Naive Bayes classifier :\n",
        "print(accuracy_score(y_test, predictive_labels))"
      ]
    },
    {
      "cell_type": "markdown",
      "metadata": {
        "id": "l4xs3ftz3SFM"
      },
      "source": [
        "Ας δοκιμάσουμε τον kNN classifier για διαφορετικά k (k=1..19, περιττοί αριθμοί)και να δούμε για ποιο από αυτά τα k έχει καλύτερη απόδοση."
      ]
    },
    {
      "cell_type": "code",
      "execution_count": null,
      "metadata": {
        "colab": {
          "base_uri": "https://localhost:8080/",
          "height": 1000
        },
        "id": "M7S5oMasoiux",
        "outputId": "bbde1772-e5a9-43b5-b597-9eaa73e87bc0"
      },
      "outputs": [
        {
          "output_type": "stream",
          "name": "stdout",
          "text": [
            "k= 1 \t ['setosa' 'versicolor' 'virginica'] \n",
            "\n",
            "[[20  0  0]\n",
            " [ 0 21  2]\n",
            " [ 0  0 17]] \n",
            "\n",
            "k= 3 \t ['setosa' 'versicolor' 'virginica'] \n",
            "\n",
            "[[20  0  0]\n",
            " [ 0 21  2]\n",
            " [ 0  0 17]] \n",
            "\n",
            "k= 5 \t ['setosa' 'versicolor' 'virginica'] \n",
            "\n",
            "[[20  0  0]\n",
            " [ 0 22  1]\n",
            " [ 0  0 17]] \n",
            "\n",
            "k= 7 \t ['setosa' 'versicolor' 'virginica'] \n",
            "\n",
            "[[20  0  0]\n",
            " [ 0 21  2]\n",
            " [ 0  0 17]] \n",
            "\n",
            "k= 9 \t ['setosa' 'versicolor' 'virginica'] \n",
            "\n",
            "[[20  0  0]\n",
            " [ 0 21  2]\n",
            " [ 0  0 17]] \n",
            "\n",
            "k= 11 \t ['setosa' 'versicolor' 'virginica'] \n",
            "\n",
            "[[20  0  0]\n",
            " [ 0 21  2]\n",
            " [ 0  0 17]] \n",
            "\n",
            "k= 13 \t ['setosa' 'versicolor' 'virginica'] \n",
            "\n",
            "[[20  0  0]\n",
            " [ 0 21  2]\n",
            " [ 0  0 17]] \n",
            "\n",
            "k= 15 \t ['setosa' 'versicolor' 'virginica'] \n",
            "\n",
            "[[20  0  0]\n",
            " [ 0 21  2]\n",
            " [ 0  0 17]] \n",
            "\n",
            "k= 17 \t ['setosa' 'versicolor' 'virginica'] \n",
            "\n",
            "[[20  0  0]\n",
            " [ 0 21  2]\n",
            " [ 0  0 17]] \n",
            "\n",
            "k= 19 \t ['setosa' 'versicolor' 'virginica'] \n",
            "\n",
            "[[20  0  0]\n",
            " [ 0 21  2]\n",
            " [ 0  0 17]] \n",
            "\n",
            "k= 21 \t ['setosa' 'versicolor' 'virginica'] \n",
            "\n",
            "[[20  0  0]\n",
            " [ 0 22  1]\n",
            " [ 0  0 17]] \n",
            "\n",
            "k= 23 \t ['setosa' 'versicolor' 'virginica'] \n",
            "\n",
            "[[20  0  0]\n",
            " [ 0 22  1]\n",
            " [ 0  1 16]] \n",
            "\n",
            "k= 25 \t ['setosa' 'versicolor' 'virginica'] \n",
            "\n",
            "[[20  0  0]\n",
            " [ 0 22  1]\n",
            " [ 0  1 16]] \n",
            "\n",
            "k= 27 \t ['setosa' 'versicolor' 'virginica'] \n",
            "\n",
            "[[20  0  0]\n",
            " [ 0 21  2]\n",
            " [ 0  1 16]] \n",
            "\n",
            "k= 29 \t ['setosa' 'versicolor' 'virginica'] \n",
            "\n",
            "[[20  0  0]\n",
            " [ 0 21  2]\n",
            " [ 0  0 17]] \n",
            "\n"
          ]
        },
        {
          "output_type": "execute_result",
          "data": {
            "text/plain": [
              "Text(0, 0.5, 'Error (misclassification) Rate')"
            ]
          },
          "metadata": {},
          "execution_count": 37
        },
        {
          "output_type": "display_data",
          "data": {
            "text/plain": [
              "<Figure size 1000x600 with 1 Axes>"
            ],
            "image/png": "[encoded data removed]"
          },
          "metadata": {}
        }
      ],
      "source": [
        "from sklearn.metrics import confusion_matrix\n",
        "import matplotlib.pyplot as plt\n",
        "import numpy as np\n",
        "from sklearn.neighbors import KNeighborsClassifier\n",
        "from sklearn.metrics import accuracy_score\n",
        "\n",
        "error_rate = []\n",
        "for i in range(1,30,2):\n",
        "  knn = KNeighborsClassifier(n_neighbors=i)\n",
        "  knn.fit(X_train, y_train)\n",
        "  pred = knn.predict(X_test)\n",
        "  error_rate.append(np.mean(pred != y_test))\n",
        "  # Compute confusion matrix\n",
        "  cnf_matrix = confusion_matrix(y_test, pred)\n",
        "  # τυπώνουμε τα labels\n",
        "  print(\"k=\",i,\"\\t\",label_names, \"\\n\")\n",
        "  # τυπώνουμε το confusion matrix\n",
        "  print(cnf_matrix,\"\\n\")\n",
        "\n",
        "\n",
        "plt.figure(figsize=(10,6))\n",
        "plt.plot(range(1,30,2),error_rate,color='blue', linestyle='dashed', marker='o',\n",
        "         markerfacecolor='red', markersize=8)\n",
        "plt.title('Error Rate vs. K Value', fontsize=20)\n",
        "plt.xlabel('K',fontsize=15)\n",
        "plt.ylabel('Error (misclassification) Rate',fontsize=15)"
      ]
    },
    {
      "cell_type": "markdown",
      "metadata": {
        "id": "XTtgrQwb9PLQ"
      },
      "source": [
        "Λαμβάνοντας υπόψη μια πραγματική ετικέτα (actual) και μια προβλεπόμενη(predicted) ετικέτα, το πρώτο πράγμα που μπορούμε να κάνουμε είναι να χωρίσουμε τα δείγματά μας σε 4 κατηγορίες:\n",
        "\n",
        "\n",
        "* True negative  — actual = 0, predicted = 0\n",
        "* False positive — actual = 0, predicted = 1\n",
        "* False negative — actual = 1, predicted = 0\n",
        "* True positive  — actual = 1, predicted = 1\n",
        "\n",
        "\n",
        "![](https://drive.google.com/uc?id=1gJ5e8GUiwcRwfiVuTLiGkM6bc92Iz2vW)\n",
        "\n",
        "Μπορούμε να υπολογίσουμε τον πίνακα σύγχυσης (confusion matrix) από το scikit-learn, ο οποίος λαμβάνει ως εισόδους τις πραγματικές ετικέτες και τις προβλεπόμενες ετικέτες (confusion_matrix (df.actual_label.values, df.predicted_label.values)).\n",
        "\n",
        "\n",
        "![](https://miro.medium.com/max/1358/1*YXQWFPQP7lzLBgv9K0hCPg.png) [copyright](https://pub.towardsai.net/confusion-matrix-179b9c758b55)\n",
        "\n",
        "Πίνακα σύγχυσης πολλών (3) κατηγοριών\n",
        "\n",
        "![](https://miro.medium.com/v2/resize:fit:640/format:webp/1*iRT_2S0F7X9zqC8gsCKyfA.png) [copyright](https://bassantgz30.medium.com/performance-metrics-for-classification-models-in-machine-learning-part-ii-9303a1c7cadd)"
      ]
    },
    {
      "cell_type": "markdown",
      "metadata": {
        "id": "nxudztJPz2ye"
      },
      "source": [
        "----\n",
        "### Αξιολόγηση της απόδοσης ενός ταξινομητή\n",
        " Αφού ένα μοντέλο κάνει τις προβλέψεις του, αξιολογούμε πόσο ορθές είναι αυτές (accuracy), πόσο καλό είναι στο να αναγνωρίζει θετικά δείγματα (recall), πόσο καλό είναι στο να δίνει σωστές προβλέψεις θετικών δειγμάτων (precision)\n",
        "\n",
        "----\n",
        "####Accuracy - Ορθότητα\n",
        "\n",
        "Το Accuracy είναι μία από τις πιο απλές μετρικές για την αξιολόγηση της απόδοσης ενός ταξινομητή και **μετρά πόσες φορές το μοντέλο έκανε σωστή πρόβλεψη, είτε θετική είτε αρνητική, διαιρώντας αυτό τον αριθμό με το σύνολο των προβλέψεων.**\n",
        "\n",
        "$$Accuracy = \\frac{TP+TN}{TP+TN+FP+FN}$$\n",
        "\n",
        "όπου $TP$ = True Positives, $TN$ = True Negatives, $FP$ = False Positives, and $FN$ = False Negatives\n",
        "\n",
        "\n",
        "![](https://upload.wikimedia.org/wikipedia/commons/thumb/2/26/Precisionrecall.svg/350px-Precisionrecall.svg.png)\n",
        "\n",
        "\n",
        "Το accuracy είναι κατάλληλο όταν έχουμε:\n",
        "\n",
        "- **Ισορροπημένα σύνολα δεδομένων**: Όταν οι θετικές και αρνητικές κατηγορίες είναι σχεδόν ισομεγέθεις.\n",
        "- **Προβλήματα όπου κάθε λάθος έχει το ίδιο κόστος**: Δεν υπάρχει σοβαρή επίπτωση αν το μοντέλο κάνει λάθος σε θετικές ή αρνητικές περιπτώσεις.\n",
        "\n",
        "Πότε δεν είναι κατάλληλο το accuracy όταν έχουμε:\n",
        "- Ανισόρροπα δεδομένα: Όταν η μια κατηγορία εμφανίζεται πολύ πιο συχνά από την άλλη (π.χ. 95% αρνητικά και 5% θετικά). Σε αυτήν την περίπτωση, ένα μοντέλο που απλά προβλέπει πάντα την πιο κοινή κατηγορία μπορεί να έχει υψηλή ορθότητα, αλλά στην πραγματικότητα να μην αναγνωρίζει καθόλου τις σπάνιες κατηγορίες.\n",
        "- Προβλήματα όπου το κόστος των λαθών δεν είναι το ίδιο: Για παράδειγμα, αν η παράβλεψη μιας θετικής περίπτωσης είναι πιο σοβαρή από την αναγνώριση μιας ψευδώς θετικής, τότε είναι καλύτερο να χρησιμοποιούμε άλλες μετρικές όπως το recall και το precision ή το F1-score για να έχουμε πιο αντιπροσωπευτική εικόνα της απόδοσης του μοντέλου μας.\n",
        "___\n",
        "\n",
        "\n",
        "#### Ανάκληση -Recall- ($R$):\n",
        "Δείχνει **πόσο καλά ένα μοντέλο εντοπίζει τα θετικά δείγματα σε ένα σύνολο δεδομένων**. Μετράει το λόγο των σωστών προβλέψεων που ανακτώνται με επιτυχία.\n",
        "\n",
        "$$R = \\frac{TP}{TP + FN}$$\n",
        "Χρήση Recall\n",
        "\n",
        "Το recall  είναι κατάλληλη μετρική αξιολόγησης σε περιπτώσεις όπου είναι ιδιαίτερα σημαντικό να εντοπίζονται όλες οι θετικές περιπτώσεις, ακόμα και αν αυτό σημαίνει ότι το μοντέλο μπορεί να δημιουργεί περισσότερα ψευδώς θετικά αποτελέσματα (False Positives). Η έμφαση εδώ είναι στο να μην παραλείψει καμία θετική περίπτωση.\n",
        "\n",
        "\n",
        "Κατάλληλες περιπτώσεις για χρήση του Recall:\n",
        "- Ιατρική Διάγνωση και Υγειονομική Περίθαλψη:\n",
        "  - Σε σενάρια όπου προσπαθούμε να ανιχνεύσουμε μια ασθένεια, το recall είναι πολύ σημαντικό. Για παράδειγμα, αν θέλουμε να εντοπίσουμε ασθενείς με καρκίνο, προτιμάμε να έχουμε υψηλό recall ακόμα και αν αυτό σημαίνει ότι θα υπάρχουν κάποιες ψευδείς θετικές διαγνώσεις (False Positives). Αυτό συμβαίνει γιατί είναι προτιμότερο να εντοπιστεί ένας ασθενής που μπορεί τελικά να μην έχει καρκίνο (ψευδώς θετικός) και να υποβληθεί σε περαιτέρω εξετάσεις, παρά να χαθεί κάποιος που έχει πραγματικά καρκίνο (False Negative).\n",
        "\n",
        "- Ανίχνευση Απάτης:\n",
        "  - Σε συστήματα που προσπαθούν να ανιχνεύσουν περιπτώσεις απάτης, το recall παίζει κρίσιμο ρόλο. Είναι σημαντικό να εντοπιστούν όλες οι ύποπτες συναλλαγές ή δραστηριότητες, ακόμα κι αν μερικές από αυτές αποδειχθούν ότι δεν είναι πραγματικά απάτες (ψευδώς θετικές). Έτσι, προτιμάμε υψηλό recall για να εξασφαλίσουμε ότι δεν θα αφήσουμε περιπτώσεις πραγματικής απάτης αδιάγνωστες.\n",
        "\n",
        "- Αναζήτηση Πληροφοριών και Συστήματα Ανάκτησης Πληροφορίας:\n",
        "   - Στις μηχανές αναζήτησης ή σε συστήματα που ανακτούν πληροφορίες (π.χ. αναζήτηση νομικών εγγράφων ή επιστημονικών άρθρων), ένα υψηλό recall είναι σημαντικό όταν ο στόχος είναι να βεβαιωθούμε ότι όλες οι σχετικές πληροφορίες περιλαμβάνονται στα αποτελέσματα. Ακόμα και αν αυτό σημαίνει ότι ο χρήστης θα πρέπει να φιλτράρει κάποια άσχετα αποτελέσματα (ψευδώς θετικά), τουλάχιστον δεν θα χάσει σημαντικές πληροφορίες.\n",
        "\n",
        "- Αναγνώριση Εικόνων και Αναγνώριση Προσώπων:\n",
        "  - Σε εφαρμογές όπως η αναγνώριση προσώπων, όπου είναι σημαντικό να ανιχνευτούν όλοι οι άνθρωποι σε μια εικόνα (π.χ. για λόγους ασφαλείας σε ένα αεροδρόμιο), το recall είναι σημαντικότερο από το precision. Εδώ προτιμάμε να εντοπίσουμε όλα τα πρόσωπα, ακόμα και αν αυτό σημαίνει ότι θα υπάρχουν και κάποιες λανθασμένες ανιχνεύσεις.\n",
        "\n",
        "Πότε δεν είναι κατάλληλο το Recall:\n",
        "- Όταν οι ψευδώς θετικές προβλέψεις έχουν μεγάλο κόστος.\n",
        "  - Για παράδειγμα, σε ένα σύστημα που εγκρίνει δάνεια, αν το μοντέλο εγκρίνει πάρα πολλά αιτήματα που θα έπρεπε να απορριφθούν, αυτό μπορεί να είναι οικονομικά καταστροφικό για την τράπεζα. Σε αυτές τις περιπτώσεις, το precision (η ακρίβεια των θετικών προβλέψεων) είναι συχνά πιο σημαντικό.\n",
        "\n",
        "---\n",
        "####Ακρίβεια -Precision- ($P$):\n",
        "\n",
        "Η Ακρίβεια (Precision) ισούται **με το ποσοστό των προβλέψεων που είναι σωστές**, δηλαδή με το λόγο των σωστών προβλέψεων προς τις συνολικές προβλέψεις.\n",
        "\n",
        " $$P = \\frac{TP}{TP+FP}$$\n",
        "\n",
        "Χρήση precision\n",
        "\n",
        "Το precision είναι κατάλληλο όταν **θέλουμε να ελαχιστοποιήσουμε τα ψευδώς θετικά αποτελέσματα και να διασφαλίσουμε ότι οι θετικές προβλέψεις είναι όσο το δυνατόν πιο ακριβείς**. Είναι προτιμότερο σε καταστάσεις όπου τα λάθη τύπου ψευδώς θετικά (False Positives) είναι πιο σοβαρά ή κοστίζουν περισσότερο από τα λάθη τύπου ψευδώς αρνητικά (False Negatives).\n",
        "\n",
        "Κατάλληλες περιπτώσεις για χρήση του Precision:\n",
        "- Οικονομικές Εφαρμογές, όπως Χορήγηση Δανείων:\n",
        "  - Σε ένα σύστημα που προβλέπει εάν ένα άτομο πρέπει να λάβει δάνειο ή όχι, το precision είναι σημαντικό. Για παράδειγμα, αν το μοντέλο προβλέψει ότι κάποιος είναι κατάλληλος για δάνειο (δηλαδή κάνει μια θετική πρόβλεψη), θέλουμε να είμαστε σίγουροι ότι αυτή η πρόβλεψη είναι σωστή για να αποφύγουμε τον κίνδυνο χορήγησης δανείων σε μη αξιόπιστους δανειολήπτες. Σε αυτήν την περίπτωση, το κόστος των ψευδώς θετικών (False Positives) είναι υψηλό, καθώς μπορεί να οδηγήσει σε απώλειες για την τράπεζα.\n",
        "\n",
        "- Ανίχνευση Spam σε Email:\n",
        "  - Στο φίλτρο spam των email, το precision είναι σημαντικό γιατί δεν θέλουμε να στέλνουμε κανονικά, σημαντικά email στον φάκελο των spam. Ένα φίλτρο με υψηλό precision θα εξασφαλίζει ότι, όταν το σύστημα επισημαίνει ένα μήνυμα ως spam (θετική πρόβλεψη), είναι πράγματι spam. Έτσι, μειώνεται η πιθανότητα να καταλήξουν σημαντικά μηνύματα σε λάθος φάκελο, πράγμα που μπορεί να έχει αρνητικές συνέπειες για τον χρήστη.\n",
        "\n",
        "- Επιχειρηματική Ευφυΐα και Ανάλυση Δεδομένων:\n",
        "  - Σε εφαρμογές που στοχεύουν στη στοχευμένη διαφήμιση ή στο μάρκετινγκ, το precision μπορεί να είναι πιο σημαντικό όταν θέλουμε οι διαφημίσεις να στοχεύουν μόνο εκείνους τους χρήστες που είναι πιο πιθανό να ενδιαφέρονται. Για παράδειγμα, αν το μοντέλο προβλέπει ποιοι χρήστες είναι πιθανό να αγοράσουν ένα προϊόν, θέλουμε να βεβαιωθούμε ότι οι θετικές προβλέψεις (δηλαδή οι χρήστες που προβλέπεται ότι θα αγοράσουν) είναι όσο το δυνατόν πιο ακριβείς ώστε να μην ξοδεύονται χρήματα σε διαφημίσεις που δεν θα αποδώσουν.\n",
        "\n",
        "- Νομικά Συστήματα και Έλεγχος Ποιότητας:\n",
        "  - Σε περιπτώσεις όπως η αναζήτηση νομικών εγγράφων ή η επιθεώρηση ποιότητας σε μια γραμμή παραγωγής, το precision είναι σημαντικό. Για παράδειγμα, αν ένα σύστημα εντοπίζει ελαττωματικά προϊόντα, το precision θα μας δείξει το ποσοστό των προβλέψεων που ήταν όντως ελαττωματικά. Είναι προτιμότερο να είμαστε σίγουροι ότι τα προϊόντα που απορρίπτουμε ως ελαττωματικά είναι πράγματι τέτοια, ώστε να μην απορρίπτουμε άσκοπα προϊόντα που δεν έχουν πρόβλημα.\n",
        "\n",
        "- Συστήματα Σύστασης:\n",
        "  - Σε εφαρμογές όπως η πρόταση φίλων σε κοινωνικά δίκτυα ή η σύσταση προϊόντων σε ένα ηλεκτρονικό κατάστημα, το precision είναι χρήσιμο όταν θέλουμε οι προτάσεις να είναι όσο το δυνατόν πιο στοχευμένες. Αν για παράδειγμα, το σύστημα προτείνει νέους φίλους, είναι σημαντικό οι χρήστες που προτείνονται να έχουν πραγματικά ενδιαφέρον για τον χρήστη, ώστε να μην ενοχλείται με άσχετες προτάσεις.\n",
        "\n",
        "Πότε δεν είναι κατάλληλο το Precision:\n",
        "\n",
        "Όταν οι ψευδώς αρνητικές προβλέψεις έχουν μεγάλο κόστος: Σε περιπτώσεις όπου είναι πολύ σημαντικό να μην παραλείψουμε καμία θετική περίπτωση, όπως στην ιατρική διάγνωση ή την ανίχνευση απάτης, το recall είναι συνήθως πιο σημαντικό από το precision. Για παράδειγμα, αν ένα μοντέλο δεν ανιχνεύσει μια περίπτωση καρκίνου (False Negative), το κόστος αυτής της παράλειψης μπορεί να είναι πολύ μεγάλο για τον ασθενή.\n",
        "\n",
        "\n",
        "-----\n"
      ]
    },
    {
      "cell_type": "markdown",
      "source": [
        "\n",
        "#### $F_1$ score\n",
        "Το $F_1$ score είναι μια μετρική αξιολόγησης που συνδυάζει το precision και το recall και είναι χρήσιμη για την αξιολόγηση της απόδοσης ενός μοντέλου ταξινόμησης.\n",
        "\n",
        "Το $F_1$ είναι ιδιαίτερα χρήσιμο όταν έχουμε ανισοσκελή δεδομένα (imbalanced data), δηλαδή όταν οι κατηγορίες των δεδομένων είναι άνισες, και όταν θέλουμε να βρούμε μια ισορροπία μεταξύ του πόσο καλά ανιχνεύουμε τα θετικά δείγματα και πόσο καλά αποφεύγουμε τις λανθασμένες θετικές προβλέψεις.\n",
        "\n",
        "\n",
        "Το $F_1$ score ορίζεται ως ο αρμονικός μέσος του precision και του recall και δίνεται από τον ακόλουθο τύπο:\n",
        "\n",
        "$$F_1 = 2\\frac{P \\times R}{P+R}$$\n",
        "\n",
        "\n",
        "Ιδανικά θέλουμε και υψηλή ακρίβεια και υψηλή ανάκληση, ωστόσο μεταξύ της ακρίβειας και της ανάκλησης υπάρχει γενικά trade-off.\n",
        "- Στην οριακή περίπτωση του ταξινομητή που επιστρέφει σταθερά μόνο τη θετική κατηγορία για παράδειγμα, η ανάκληση θα είναι 1 αλλά η ακρίβεια θα έχει τη μικρότερη δυνατή τιμή της.\n",
        "\n",
        "Γενικά, κατεβάζοντας το κατώφλι της απόφασης του ταξινομητή, αυξάνουμε την ανάκληση και μειώνουμε την ακρίβεια και αντιστρόφως.\n",
        "\n",
        "- Στην πράξη και ειδικά σε μη ισορροπημένα datasets χρησιμοποιούμε την ακρίβεια, ανάκληση και το $F_1$ πιο συχνά από την ορθότητα.\n",
        "\n",
        "\\\\\n",
        "Πώς Δουλεύει το $F_1$:\n",
        "\n",
        "Το $F_1$ score κυμαίνεται μεταξύ 0 και 1, όπου:\n",
        "- $F_1$ = 1 σημαίνει τέλεια ακρίβεια και ανάκληση (το μοντέλο κάνει ακριβώς σωστές προβλέψεις χωρίς ψευδώς θετικά ή ψευδώς αρνητικά).\n",
        "- $F_1$ = 0 σημαίνει ότι είτε το precision είτε το recall είναι μηδέν, που σημαίνει ότι το μοντέλο είτε δεν ανιχνεύει σωστά τις θετικές περιπτώσεις είτε έχει πολλές ψευδώς θετικές προβλέψεις.\n",
        "\n",
        "\\\\\n",
        "Γιατί Χρησιμοποιούμε το $F_1$ Score:\n",
        "\n",
        "Το $F_1$ είναι χρήσιμο όταν θέλουμε να εξισορροπήσουμε την ανάγκη για υψηλό precision και recall. Υπάρχουν περιπτώσεις όπου δεν αρκεί να έχουμε μόνο ένα από τα δύο υψηλό, και το $F_1$ βοηθά στο να έχουμε μια συνολική εικόνα της απόδοσης του μοντέλου μας.\n",
        "\n",
        "\n",
        "\\\\\n",
        "#####$F_1$ Score για multiclass ταξινομήσεις:\n",
        "\n",
        "##### Macro-averaged $F_1$:\n",
        "\n",
        "- Υπολογίζει το $F_1$ score ξεχωριστά για κάθε κατηγορία και στη συνέχεια παίρνει τον μέσο όρο.\n",
        "\n",
        "- Χρήσιμο όταν θέλουμε να δούμε την απόδοση για κάθε κατηγορία ξεχωριστά και να δώσουμε ίση σημασία σε κάθε μία από αυτές.\n",
        "\n",
        "\n",
        "$$Macro-F_1= \\frac{\\sum{F_{1i}}}{n}$$\n",
        "\n",
        "   όπου το $i$ από το $F_{1i}$ αναφέρεται στο $F_1$ score για κάθε κατηγορία\n",
        "και  $𝑛$ ο συνολικός αριθμός κατηγοριών.\n",
        "\n",
        "\n",
        "##### Weighted-averaged $F_1$:\n",
        "\n",
        "Υπολογίζει το $F_1$ score ξεχωριστά για κάθε κατηγορία και παίρνει έναν σταθμισμένο μέσο όρο, λαμβάνοντας υπόψη το πλήθος των δειγμάτων σε κάθε κατηγορία.\n",
        "\n",
        "Χρήσιμο όταν οι κατηγορίες έχουν ανισομεγέθη σύνολα δεδομένων και θέλουμε το $F_1$ score να αντικατοπτρίζει αυτή την ανισοκατανομή.\n",
        "\n",
        "$$Weighted-F_1=\\frac{\\sum{w_iF_{1i}}}{\\sum{w_i}}$$\n",
        "\n",
        "όπου $w_i$  είναι το βάρος για την κατηγορία $i$ (δηλαδή o αριθμός των δειγμάτων της κατηγορίας $i$)."
      ],
      "metadata": {
        "id": "R0kPmimx482z"
      }
    },
    {
      "cell_type": "code",
      "execution_count": null,
      "metadata": {
        "colab": {
          "base_uri": "https://localhost:8080/"
        },
        "id": "knmN5cfFN4pf",
        "outputId": "2bf899c3-6028-40e3-c2c5-7318f9c4abb6"
      },
      "outputs": [
        {
          "output_type": "stream",
          "name": "stdout",
          "text": [
            "2 0 1 1\n"
          ]
        }
      ],
      "source": [
        "# παράδειγμα confusion matrix σε δυαδική ταξινόμηση\n",
        "tn, fp, fn, tp = confusion_matrix([0, 1, 0, 1], [0, 1, 0, 0]).ravel()\n",
        "print(tn, fp, fn, tp)"
      ]
    },
    {
      "cell_type": "code",
      "execution_count": null,
      "metadata": {
        "colab": {
          "base_uri": "https://localhost:8080/"
        },
        "id": "hbaie_yIN4pk",
        "outputId": "53c195be-4e0d-46dd-a0f6-308f5495f801"
      },
      "outputs": [
        {
          "output_type": "stream",
          "name": "stdout",
          "text": [
            "(array([1.        , 1.        , 0.89473684]), array([1.        , 0.91304348, 1.        ]), array([1.        , 0.95454545, 0.94444444]), array([20, 23, 17])) \n",
            "\n",
            "(0.9666666666666667, 0.9666666666666667, 0.9666666666666667, None) \n",
            "\n",
            "(0.9649122807017544, 0.9710144927536232, 0.9663299663299663, None) \n",
            "\n",
            "(0.9701754385964912, 0.9666666666666667, 0.9668350168350168, None) \n",
            "\n",
            "              precision    recall  f1-score   support\n",
            "\n",
            "      setosa       1.00      1.00      1.00        20\n",
            "  versicolor       1.00      0.91      0.95        23\n",
            "   virginica       0.89      1.00      0.94        17\n",
            "\n",
            "    accuracy                           0.97        60\n",
            "   macro avg       0.96      0.97      0.97        60\n",
            "weighted avg       0.97      0.97      0.97        60\n",
            "\n"
          ]
        }
      ],
      "source": [
        "from sklearn.metrics import precision_recall_fscore_support\n",
        "\n",
        "# εκτυπώνουμε 4 πίνακες, precision, recall, F1 και support. Support είναι ο συνολικός αριθμός προβλέψεων σε κάθε κατηγορία\n",
        "\n",
        "# το πρώτο στοιχείο του κάθε πίνακα είναι η κατηγορία setosa, το δεύτερο η versicolor και το τρίτο η virginica\n",
        "print(precision_recall_fscore_support(y_test, pred, average=None), \"\\n\")\n",
        "\n",
        "# εκτυπώνουμε τa precision, recall και F1 λαμβάνοντας υπόψη συνολικά (αθροίζοντας εκτός κατηγοριών) τα δείγματα (average = micro).\n",
        "print(precision_recall_fscore_support(y_test, pred, average='micro'), \"\\n\")\n",
        "\n",
        "# εκτυπώνουμε το μέσο όρο των precision, recall και F1 θεωρώντας ότι οι κατηγορίες έχουν το ίδιο βάρος (average = macro)\n",
        "print(precision_recall_fscore_support(y_test, pred, average='macro'), \"\\n\")\n",
        "\n",
        "# εκτυπώνουμε τa precision, recall και F1 λαμβάνοντας. Με average = weighted κάθε κατηγορία μετρά στο μέσο όρο ανάλογα με το support της.\n",
        "print(precision_recall_fscore_support(y_test, pred, average='weighted'), \"\\n\")\n",
        "\n",
        "# η classification_report τυπώνει πιο ωραία οπτικά σε string τα αποτελέσματα\n",
        "\n",
        "# πρώτα για κάθε κατηγορία και μετά με μέσους όρους\n",
        "\n",
        "from sklearn.metrics import classification_report\n",
        "\n",
        "print(classification_report(y_test, pred, target_names=label_names))\n"
      ]
    },
    {
      "cell_type": "markdown",
      "metadata": {
        "id": "3NgAbLr4ZhSB"
      },
      "source": [
        "Documentation από το scikit σχετικά με την αξιολόγηση των μοντέλων:\n",
        "\n",
        "* [sklearn.metrics.precision_recall_fscore_support](http://scikit-learn.org/stable/modules/generated/sklearn.metrics.precision_recall_fscore_support.html)\n",
        "* [Model evaluation: quantifying the quality of predictions](http://scikit-learn.org/stable/modules/model_evaluation.html#multiclass-and-multilabel-classification)\n",
        "* [Multiclass and multilabel classification](http://scikit-learn.org/stable/modules/model_evaluation.html#multiclass-and-multilabel-classification)"
      ]
    }
  ],
  "metadata": {
    "colab": {
      "provenance": [],
      "include_colab_link": true
    },
    "kernelspec": {
      "display_name": "Python 3",
      "name": "python3"
    },
    "language_info": {
      "name": "python"
    }
  },
  "nbformat": 4,
  "nbformat_minor": 0
}