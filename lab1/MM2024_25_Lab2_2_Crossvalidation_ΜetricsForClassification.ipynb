{
  "nbformat": 4,
  "nbformat_minor": 0,
  "metadata": {
    "colab": {
      "provenance": [],
      "include_colab_link": true
    },
    "kernelspec": {
      "name": "python3",
      "display_name": "Python 3"
    }
  },
  "cells": [
    {
      "cell_type": "markdown",
      "metadata": {
        "id": "view-in-github",
        "colab_type": "text"
      },
      "source": [
        "<a href=\"https://colab.research.google.com/github/Mr-Katakitchen/ML-NTUA/blob/main/lab1/MM2024_25_Lab2_2_Crossvalidation_%CE%9CetricsForClassification.ipynb\" target=\"_parent\"><img src=\"https://colab.research.google.com/assets/colab-badge.svg\" alt=\"Open In Colab\"/></a>"
      ]
    },
    {
      "cell_type": "markdown",
      "source": [
        "⚠️\n",
        "Επισημαίνεται ότι η σχεδίαση και το περιεχόμενο του notebook αποτελούν αντικείμενο πνευματικής ιδιοκτησίας."
      ],
      "metadata": {
        "id": "O0oN_taRz1wn"
      }
    },
    {
      "cell_type": "markdown",
      "metadata": {
        "id": "VowCTTxWNb9I"
      },
      "source": [
        "# Τεχνικές διασταυρωμένης επικύρωσης"
      ]
    },
    {
      "cell_type": "markdown",
      "source": [
        "Οι τεχνικές διασταυρωμένης επικύρωσης (cross-validation techniques) χρησιμοποιούνται για την αξιολόγηση της απόδοσης των μοντέλων μηχανικής μάθησης, προσφέροντας **μια πιο αξιόπιστη και γενικευμένη εικόνα της απόδοσης τους σε άγνωστα δεδομένα**.\n",
        "\n",
        "Αυτές οι τεχνικές βοηθούν *να αποφευχθεί η υπερπροσαρμογή (overfitting) ή η υποπροσαρμογή (underfitting)* και επιτρέπουν να *αξιολογήσουμε* την ικανότητα γενίκευσης του μοντέλου, δηλαδή το *πώς θα αποδώσει σε νέα, μη γνωστά δεδομένα*.\n",
        "\n",
        "- Λόγοι Χρήσης των Τεχνικών Διασταυρωμένης Επικύρωσης:\n",
        "\n",
        "  - Αξιολόγηση της Απόδοσης του Μοντέλου: Στην ανάπτυξη μοντέλων, είναι σημαντικό να αξιολογούμε πόσο καλά θα αποδίδει ένα μοντέλο σε νέα δεδομένα και όχι μόνο στα δεδομένα εκπαίδευσης. Η διασταυρωμένη επικύρωση προσφέρει μια πιο ρεαλιστική εκτίμηση του πραγματικού σφάλματος του μοντέλου.\n",
        "\n",
        "  - Αντιμετώπιση της Μεροληψίας στην Εκπαίδευση και Δοκιμή: Αν χωρίσουμε τα δεδομένα μόνο μια φορά σε σύνολα εκπαίδευσης και δοκιμής, υπάρχει πιθανότητα τα δεδομένα αυτά να μην είναι αντιπροσωπευτικά ή να προκαλέσουν μεροληψία στην αξιολόγηση. Η διασταυρωμένη επικύρωση ελαχιστοποιεί αυτό το ρίσκο, κάνοντας πολλαπλές δοκιμές σε διαφορετικά υποσύνολα.\n",
        "  - Αποφυγή Υπερπροσαρμογής (Overfitting): Η υπερπροσαρμογή συμβαίνει όταν το μοντέλο μαθαίνει υπερβολικά καλά τις λεπτομέρειες των δεδομένων εκπαίδευσης, αποδίδοντας άσχημα σε νέα δεδομένα. Η διασταυρωμένη επικύρωση βοηθά να εντοπιστεί αν το μοντέλο προσαρμόζεται υπερβολικά στα δεδομένα εκπαίδευσης και ελέγχει αν έχει την ίδια απόδοση σε διαφορετικά υποσύνολα των δεδομένων.\n",
        "\n",
        "  - Χρήση Όλων των Δεδομένων για Εκπαίδευση και Δοκιμή: Σε σύνολα δεδομένων μικρού μεγέθους, η διασταυρωμένη επικύρωση επιτρέπει την καλύτερη αξιοποίηση των δεδομένων, διότι κάθε δείγμα μπορεί να χρησιμοποιηθεί τόσο για εκπαίδευση όσο και για δοκιμή σε διαφορετικά βήματα της διαδικασίας.\n",
        "\n",
        "  - Βελτιστοποίηση Υπερπαραμέτρων: Κατά την επιλογή των βέλτιστων υπερπαραμέτρων ενός μοντέλου, η διασταυρωμένη επικύρωση χρησιμοποιείται για να συγκρίνουμε την απόδοση διαφορετικών συνδυασμών υπερπαραμέτρων και να επιλέξουμε τον καλύτερο."
      ],
      "metadata": {
        "id": "gfc9nCpd_tDC"
      }
    },
    {
      "cell_type": "markdown",
      "metadata": {
        "id": "vgvneoydNcsQ"
      },
      "source": [
        "Για τον πειραματισμό μας  θα χρησιμοποιήσουμε ως dataset το *Pima-Indians-diabetes*. Θα φορτώσουμε το dataset και θα το χωρίσουμε σε data και σε labels."
      ]
    },
    {
      "cell_type": "code",
      "metadata": {
        "id": "EhR1lEjrF7wF",
        "colab": {
          "base_uri": "https://localhost:8080/"
        },
        "outputId": "da752e42-28db-41c2-af20-5b46154a98ef"
      },
      "source": [
        "from IPython.display import Image\n",
        "from IPython.display import display\n",
        "\n",
        "import pandas as pd\n",
        "import numpy as np\n",
        "import matplotlib.pyplot as plt\n",
        "\n",
        "# inline plotting instead of popping out\n",
        "%matplotlib inline\n",
        "\n",
        "\n",
        "# e.g., plot_decision_regions()\n",
        "import os, sys\n",
        "module_path = os.path.abspath(os.path.join('.'))\n",
        "sys.path.append(module_path)\n",
        "\n",
        "\n",
        "# Load CSV using Pandas from URL\n",
        "\n",
        "url = \"https://raw.githubusercontent.com/jbrownlee/Datasets/master/pima-indians-diabetes.data.csv\"\n",
        "names = ['preg', 'plas', 'pres', 'skin', 'test', 'mass', 'pedi', 'age', 'class']\n",
        "data = pd.read_csv(url, names=names)\n",
        "print(data.shape)\n",
        "\n",
        "# separate array into input and output components\n",
        "# X: Features Y: Labels\n",
        "\n",
        "y = data['class']\n",
        "X = data.drop('class', axis=1)\n",
        "\n",
        "X.shape, y.shape"
      ],
      "execution_count": null,
      "outputs": [
        {
          "output_type": "stream",
          "name": "stdout",
          "text": [
            "(768, 9)\n"
          ]
        },
        {
          "output_type": "execute_result",
          "data": {
            "text/plain": [
              "((768, 8), (768,))"
            ]
          },
          "metadata": {},
          "execution_count": 1
        }
      ]
    },
    {
      "cell_type": "markdown",
      "metadata": {
        "id": "eRXuY5ZGPD6Q"
      },
      "source": [
        "# Βασικές Τεχνικές Διασταυρωμένης Επικύρωσης\n",
        "\n",
        "## Hold out cross validation"
      ]
    },
    {
      "cell_type": "markdown",
      "metadata": {
        "id": "MvxtzEpENaCS"
      },
      "source": [
        "![alt text](https://www.kdnuggets.com/wp-content/uploads/dataiku-holdout-strategy.jpg)"
      ]
    },
    {
      "cell_type": "markdown",
      "metadata": {
        "id": "nhQvXFgcPPje"
      },
      "source": [
        "Βήμα 1: Χωρίζουμε τα data kai ta labels σε training (70%) και σε testing set (30%)   \n",
        "![](https://developers.google.com/static/machine-learning/crash-course/images/PartitionTwoSets.svg)"
      ]
    },
    {
      "cell_type": "code",
      "metadata": {
        "id": "ovXjOIweNa-a",
        "colab": {
          "base_uri": "https://localhost:8080/"
        },
        "outputId": "3bc5a885-e199-4671-f3c6-727a25bdf8b5"
      },
      "source": [
        "from sklearn.model_selection import train_test_split\n",
        "# hold out testing set\n",
        "X_train, X_test, y_train, y_test = train_test_split(X, y, test_size=0.3, random_state=0)\n",
        "\n",
        "X_train.shape, X_test.shape"
      ],
      "execution_count": null,
      "outputs": [
        {
          "output_type": "execute_result",
          "data": {
            "text/plain": [
              "((537, 8), (231, 8))"
            ]
          },
          "metadata": {},
          "execution_count": 2
        }
      ]
    },
    {
      "cell_type": "markdown",
      "metadata": {
        "id": "FdeZ8SxzP30z"
      },
      "source": [
        "Βήμα 1: Έπειτα θα  χωρίζουμε το training set σε 70% και σε 30% όπου το 30% θα το χρησιμοποιήσουμε για validation  ![](https://developers.google.com/static/machine-learning/crash-course/images/PartitionThreeSets.svg)\n",
        "\n"
      ]
    },
    {
      "cell_type": "code",
      "metadata": {
        "id": "kUVpllGwQABB",
        "colab": {
          "base_uri": "https://localhost:8080/"
        },
        "outputId": "aa72a501-33b3-42ae-9b49-11825a8a1047"
      },
      "source": [
        "# hold out validation set\n",
        "X_train, X_val, y_train, y_val = train_test_split(X_train, y_train, test_size=0.3, random_state=0)\n",
        "\n",
        "X_train.shape, X_val.shape"
      ],
      "execution_count": null,
      "outputs": [
        {
          "output_type": "execute_result",
          "data": {
            "text/plain": [
              "((375, 8), (162, 8))"
            ]
          },
          "metadata": {},
          "execution_count": 3
        }
      ]
    },
    {
      "cell_type": "markdown",
      "source": [
        "Χρησιμοποιoύμε το σύνολο επικύρωσης(validation set) για να αξιολογήσουμε τα αποτελέσματα από το σύνολο εκπαίδευσης. Στη συνέχεια, χρησιμοποιούμε το σύνολο δοκιμών για να ελέγξουμε ξανά την αξιολόγησή μας αφού το μοντέλο «περάσει» το σύνολο επικύρωσης.\n",
        "\n",
        "Το παρακάτω σχήμα δείχνει αυτή τη νέα ροή εργασίας:\n",
        "\n",
        "![](https://developers.google.com/static/machine-learning/crash-course/images/WorkflowWithValidationSet.svg)"
      ],
      "metadata": {
        "id": "rKcVaOjyjUdG"
      }
    },
    {
      "cell_type": "markdown",
      "metadata": {
        "id": "TbM3wVwDS8O_"
      },
      "source": [
        "Βήμα 2:  Για διαφορετικές υπερπαραμέτρους (n_neighbors = 1, 15, 50) θα εκπαιδεύσουμε έναν k-nearest neighbors classifier, χρησιμοποιώντας το training set με το validation set και θα τυπώσουμε τα αποτελέσματα"
      ]
    },
    {
      "cell_type": "code",
      "metadata": {
        "id": "BXtAmp9GS8gG",
        "colab": {
          "base_uri": "https://localhost:8080/"
        },
        "outputId": "03f14945-51a4-41ed-d264-d24d65debf1c"
      },
      "source": [
        "\n",
        "from sklearn.neighbors import KNeighborsClassifier\n",
        "from sklearn.metrics import accuracy_score\n",
        "\n",
        "\n",
        "best_k, best_score = -1, -1\n",
        "clfs = {}\n",
        "\n",
        "# hyperparameter tuning\n",
        "for k in [1, 15, 51]:\n",
        "    knn = KNeighborsClassifier(n_neighbors=k)\n",
        "    knn.fit(X_train, y_train)\n",
        "    y_pred = knn.predict(X_val)\n",
        "    score = accuracy_score(y_val, y_pred)\n",
        "    print('[{}-NN]\\nValidation accuracy: {}'.format(k, score))\n",
        "    if score > best_score:\n",
        "        best_k, best_score = k, score\n",
        "    clfs[k] = knn"
      ],
      "execution_count": null,
      "outputs": [
        {
          "output_type": "stream",
          "name": "stdout",
          "text": [
            "[1-NN]\n",
            "Validation accuracy: 0.7098765432098766\n",
            "[15-NN]\n",
            "Validation accuracy: 0.7901234567901234\n",
            "[51-NN]\n",
            "Validation accuracy: 0.7345679012345679\n"
          ]
        }
      ]
    },
    {
      "cell_type": "markdown",
      "metadata": {
        "id": "M-Fv18-RU2BN"
      },
      "source": [
        "Βήμα 3: Θα επιλέξουμε το καλύτερο αποτέλεσμα και θα το εφαρμόσουμε στα δεδομένα ελέγχου (test set)"
      ]
    },
    {
      "cell_type": "code",
      "metadata": {
        "id": "jHScH2rzU2Xr",
        "colab": {
          "base_uri": "https://localhost:8080/"
        },
        "outputId": "a50c48d8-980a-4c9a-a71b-a73efe7dda8e"
      },
      "source": [
        "# performance reporting\n",
        "y_pred= clfs[best_k].predict(X_test)\n",
        "\n",
        "print('Test accuracy:', accuracy_score(y_test, y_pred), ', n_neighbors=',best_k)"
      ],
      "execution_count": null,
      "outputs": [
        {
          "output_type": "stream",
          "name": "stdout",
          "text": [
            "Test accuracy: 0.7316017316017316 , n_neighbors= 15\n"
          ]
        }
      ]
    },
    {
      "cell_type": "markdown",
      "metadata": {
        "id": "NczHLVbSX6gx"
      },
      "source": [
        "Ένα σημαντικό μειονέκτημα της  holdout μεθόδου είναι ότι οι επιδόσεις της είναι ευαίσθητες στους τυχαίους διαχωρισμούς και σε μη βέλτιστες υπερπαραμέτρους. Αν θέσουμε n_neighbors = 15 χειροκίνητα τότε ίσως να παρατηρήσουμε ότι οδηγούμαστε σε καλύτερα αποτελέσματα."
      ]
    },
    {
      "cell_type": "code",
      "metadata": {
        "id": "p7Nq5-FzX605",
        "colab": {
          "base_uri": "https://localhost:8080/"
        },
        "outputId": "bc5b25e6-847d-4cd6-f941-194987aa411b"
      },
      "source": [
        "k=15\n",
        "y_pred= clfs[k].predict(X_test)\n",
        "print('Test accuracy: %.2f (n_neighbors=15 selected manually)' %\n",
        "      (accuracy_score(y_test, y_pred)))"
      ],
      "execution_count": null,
      "outputs": [
        {
          "output_type": "stream",
          "name": "stdout",
          "text": [
            "Test accuracy: 0.73 (n_neighbors=15 selected manually)\n"
          ]
        }
      ]
    },
    {
      "cell_type": "markdown",
      "metadata": {
        "id": "8oxAsKweXPz2"
      },
      "source": [
        "##K-fold Cross Validation\n",
        "\n",
        "![alt text](https://www.kdnuggets.com/wp-content/uploads/dataiku-kfold-strategy.jpg)\n"
      ]
    },
    {
      "cell_type": "markdown",
      "metadata": {
        "id": "SZaSivuIek4b"
      },
      "source": [
        "Βήμα 1: Χωρίζουμε τα data kai ta labels σε training (70%) και σε testing set (30%)"
      ]
    },
    {
      "cell_type": "code",
      "metadata": {
        "id": "VD05qdIiXX37",
        "colab": {
          "base_uri": "https://localhost:8080/"
        },
        "outputId": "9b6ff916-181d-42c1-ae6d-c9cbba8cc05b"
      },
      "source": [
        "# hold out testing set\n",
        "X_train, X_test, y_train, y_test = train_test_split(X, y, test_size=0.3, random_state=0)\n",
        "\n",
        "X_train.shape, X_test.shape"
      ],
      "execution_count": null,
      "outputs": [
        {
          "output_type": "execute_result",
          "data": {
            "text/plain": [
              "((537, 8), (231, 8))"
            ]
          },
          "metadata": {},
          "execution_count": 7
        }
      ]
    },
    {
      "cell_type": "markdown",
      "metadata": {
        "id": "b1a6KXS4htJP"
      },
      "source": [
        "Για διαφορετικές υπερπαραμέτρους (n_neighbors = 1, 15, 50) θα εκπαιδεύσουμε έναν k-nearest neighbors classifier, χρησιμοποιώντας το training set μαζί με το k fold cross validation."
      ]
    },
    {
      "cell_type": "markdown",
      "metadata": {
        "id": "4bixA7F-htdg"
      },
      "source": [
        "Βήμα 2:"
      ]
    },
    {
      "cell_type": "code",
      "metadata": {
        "id": "8JvzVDqhhtmA",
        "colab": {
          "base_uri": "https://localhost:8080/"
        },
        "outputId": "2d3ae179-ec4b-4442-f0c1-87c2824a2a12"
      },
      "source": [
        "from sklearn.neighbors import KNeighborsClassifier\n",
        "from sklearn.metrics import accuracy_score\n",
        "from sklearn.model_selection import cross_val_score\n",
        "\n",
        "best_k, best_score = -1, -1\n",
        "clfs = {}\n",
        "\n",
        "for k in [1, 15, 50]: # experiment different hyperparameter\n",
        "    knn1 = KNeighborsClassifier(n_neighbors=k)\n",
        "    knn1.fit(X_train, y_train)\n",
        "    # K-Fold CV\n",
        "    scores = cross_val_score(knn1, X_train, y_train, cv=10)\n",
        "    print('[%d-NN]\\nValidation accuracy: %.3f %s' % (k, scores.mean(), scores))\n",
        "    if scores.mean() > best_score:\n",
        "        best_k, best_score = k, scores.mean()\n",
        "    clfs[k] = knn1"
      ],
      "execution_count": null,
      "outputs": [
        {
          "output_type": "stream",
          "name": "stdout",
          "text": [
            "[1-NN]\n",
            "Validation accuracy: 0.679 [0.68518519 0.68518519 0.72222222 0.7962963  0.64814815 0.64814815\n",
            " 0.68518519 0.62264151 0.64150943 0.66037736]\n",
            "[15-NN]\n",
            "Validation accuracy: 0.741 [0.75925926 0.74074074 0.74074074 0.72222222 0.77777778 0.74074074\n",
            " 0.68518519 0.71698113 0.77358491 0.75471698]\n",
            "[50-NN]\n",
            "Validation accuracy: 0.724 [0.7037037  0.74074074 0.74074074 0.68518519 0.7962963  0.75925926\n",
            " 0.62962963 0.69811321 0.75471698 0.73584906]\n"
          ]
        }
      ]
    },
    {
      "cell_type": "markdown",
      "metadata": {
        "id": "aH2RXIs0ixhf"
      },
      "source": [
        "Βήμα 3: To 10-fold Cross Validation  επίλεξε τον καλύτερο ταξινομητή (n_neighbors = 50 ), όπως αναμέναμε.\n",
        "Μόλις επιλέξουμε τις σωστές τιμές υπερπαραμέτρων, επανεκπαιδεύουμε το μοντέλο στο πλήρες training set και λάβουμε μια τελική εκτίμηση απόδοσης για το test set."
      ]
    },
    {
      "cell_type": "code",
      "metadata": {
        "id": "bzsxctlakFS5",
        "colab": {
          "base_uri": "https://localhost:8080/"
        },
        "outputId": "01d23335-d2d5-49cf-8d2c-997a7e4d8a08"
      },
      "source": [
        "best_clf = clfs[best_k]\n",
        "best_clf.fit(X_train, y_train)\n",
        "\n",
        "# performance reporting\n",
        "y_pred = best_clf.predict(X_test)\n",
        "print('Test accuracy: %.2f (n_neighbors=%d selected by 10-fold CV)' %\n",
        "      (accuracy_score(y_test, y_pred), best_k))"
      ],
      "execution_count": null,
      "outputs": [
        {
          "output_type": "stream",
          "name": "stdout",
          "text": [
            "Test accuracy: 0.76 (n_neighbors=15 selected by 10-fold CV)\n"
          ]
        }
      ]
    },
    {
      "cell_type": "markdown",
      "metadata": {
        "id": "sOVeZzsTkh72"
      },
      "source": [
        "Συνήθως, ορίζουμε K = 10 στις περισσότερες εφαρμογές και  K = 5 για μεγαλύτερα σύνολα δεδομένων.  Όταν έχουμε πολύ μικρά σύνολα δεδομένων ορίσουμε  K = N, που αντιστοιχεί στο **leave-one-out cross validation**."
      ]
    },
    {
      "cell_type": "markdown",
      "metadata": {
        "id": "Xe9cr7vJMGU5"
      },
      "source": [
        "## Μετρικές για classification"
      ]
    },
    {
      "cell_type": "markdown",
      "metadata": {
        "id": "3GgVEtW5spV4"
      },
      "source": [
        "### Ορθότητα\n",
        "$\\texttt{accuracy}(y, \\hat{y}) = \\frac{1}{n_\\text{samples}} \\sum_{i=0}^{n_\\text{samples}-1} 1(\\hat{y}_i = y_i)$\n"
      ]
    },
    {
      "cell_type": "code",
      "metadata": {
        "id": "DLGb8-FwsfMP",
        "colab": {
          "base_uri": "https://localhost:8080/"
        },
        "outputId": "156cf399-a0af-4719-eb2d-ebdfea5c7e55"
      },
      "source": [
        "from sklearn.metrics import accuracy_score\n",
        "y_true = [0, 1, 0, 0, 1, 1]\n",
        "y_pred = [0, 1, 1, 0, 0, 1]\n",
        "accuracy_score(y_true, y_pred), accuracy_score(y_true, y_pred, normalize=False)"
      ],
      "execution_count": null,
      "outputs": [
        {
          "output_type": "execute_result",
          "data": {
            "text/plain": [
              "(0.6666666666666666, 4.0)"
            ]
          },
          "metadata": {},
          "execution_count": 10
        }
      ]
    },
    {
      "cell_type": "markdown",
      "metadata": {
        "id": "aXDEinNU03XU"
      },
      "source": [
        "### Confusion Matrix\n",
        "\n",
        "Ένας πίνακας σύγχυσης είναι ένας απλός τρόπος για να αξιολογήσoυμε οπτικά πόσο συχνά είναι σωστές οι προβλέψεις από έναν ταξινομητή."
      ]
    },
    {
      "cell_type": "markdown",
      "metadata": {
        "id": "Z3cxBsTS1aXB"
      },
      "source": [
        "Για δυαδικά προβλήματα, μπορούμε να τυπώσουμε  τα εξής: **true negatives, false positives, false negatives** και **true positives**."
      ]
    },
    {
      "cell_type": "code",
      "metadata": {
        "id": "0HzFnaz21YeA",
        "colab": {
          "base_uri": "https://localhost:8080/"
        },
        "outputId": "d7b5ab63-d6e2-4ca1-85b9-170858116f38"
      },
      "source": [
        "from sklearn.metrics import confusion_matrix\n",
        "y_true = [0, 0, 0, 1, 1, 1, 1, 1]\n",
        "y_pred = [0, 1, 0, 1, 0, 1, 0, 1]\n",
        "\n",
        "tn, fp, fn, tp = confusion_matrix(y_true, y_pred).ravel()\n",
        "tn, fp, fn, tp"
      ],
      "execution_count": null,
      "outputs": [
        {
          "output_type": "execute_result",
          "data": {
            "text/plain": [
              "(2, 1, 2, 3)"
            ]
          },
          "metadata": {},
          "execution_count": 11
        }
      ]
    },
    {
      "cell_type": "code",
      "metadata": {
        "id": "XIQPikex03Ms",
        "colab": {
          "base_uri": "https://localhost:8080/"
        },
        "outputId": "cc7b681b-9766-498e-ca2e-9efbdf456a6d"
      },
      "source": [
        "from sklearn.metrics import confusion_matrix\n",
        "y_true = [0, 1, 0, 1, 2, 2, 0, 1, 0, 2]\n",
        "y_pred = [0, 2, 1, 1, 1, 2 , 1, 0, 1, 2]\n",
        "\n",
        "confusion_matrix(y_true, y_pred)"
      ],
      "execution_count": null,
      "outputs": [
        {
          "output_type": "execute_result",
          "data": {
            "text/plain": [
              "array([[1, 3, 0],\n",
              "       [1, 1, 1],\n",
              "       [0, 1, 2]])"
            ]
          },
          "metadata": {},
          "execution_count": 12
        }
      ]
    },
    {
      "cell_type": "markdown",
      "metadata": {
        "id": "nLtcsc2ltZAR"
      },
      "source": [
        "###  Classification report\n",
        "\n",
        "Απεικονίζει σε πίνακα το **precision**, το **recall** και το **f1-score** για κάθε κλάση του dataset.\n",
        "Μπορούμε να δούμε και την κάθε μετρική χωριστά."
      ]
    },
    {
      "cell_type": "code",
      "metadata": {
        "id": "DPX15q4ctXxh",
        "colab": {
          "base_uri": "https://localhost:8080/"
        },
        "outputId": "7aa2f860-439b-427a-8b17-1eb050c8fbe5"
      },
      "source": [
        "from sklearn.metrics import classification_report\n",
        "y_true = [0, 1, 2, 1, 1]\n",
        "y_pred = [0, 0, 2, 1, 1]\n",
        "target_names = ['class 0', 'class 1', 'class 2']\n",
        "print(classification_report(y_true, y_pred, target_names=target_names))"
      ],
      "execution_count": null,
      "outputs": [
        {
          "output_type": "stream",
          "name": "stdout",
          "text": [
            "              precision    recall  f1-score   support\n",
            "\n",
            "     class 0       0.50      1.00      0.67         1\n",
            "     class 1       1.00      0.67      0.80         3\n",
            "     class 2       1.00      1.00      1.00         1\n",
            "\n",
            "    accuracy                           0.80         5\n",
            "   macro avg       0.83      0.89      0.82         5\n",
            "weighted avg       0.90      0.80      0.81         5\n",
            "\n"
          ]
        }
      ]
    },
    {
      "cell_type": "markdown",
      "metadata": {
        "id": "mK1HBsjpH_6q"
      },
      "source": [
        "## Μετρικές για Regression"
      ]
    },
    {
      "cell_type": "markdown",
      "metadata": {
        "id": "mQaSZ--TII4v"
      },
      "source": [
        "$\\text{MAE}(y, \\hat{y}) = \\frac{1}{n_{\\text{samples}}} \\sum_{i=0}^{n_{\\text{samples}}-1} \\left| y_i - \\hat{y}_i \\right|$"
      ]
    },
    {
      "cell_type": "code",
      "metadata": {
        "id": "r2SgSmW2IKv_",
        "colab": {
          "base_uri": "https://localhost:8080/"
        },
        "outputId": "67a7f519-eb67-4327-c3c4-aff7cb8e63cc"
      },
      "source": [
        "# return loss : float or ndarray of floats => A non-negative floating point value (the best value is 0.0), or an array of floating point values, one for each individual target.\n",
        "\n",
        "\n",
        "from sklearn.metrics import mean_absolute_error\n",
        "\n",
        "y_true = [3, -0.5, 2, 7]\n",
        "y_pred = [2.5, 0.0, 2, 8]\n",
        "\n",
        "mean_absolute_error(y_true, y_pred)\n",
        "\n"
      ],
      "execution_count": null,
      "outputs": [
        {
          "output_type": "execute_result",
          "data": {
            "text/plain": [
              "0.5"
            ]
          },
          "metadata": {},
          "execution_count": 14
        }
      ]
    },
    {
      "cell_type": "code",
      "metadata": {
        "id": "p3Ua664-Iv0L",
        "colab": {
          "base_uri": "https://localhost:8080/"
        },
        "outputId": "054758f9-b2d7-43f7-ad00-d8a4d4005cd7"
      },
      "source": [
        "y_true = [[0, 2], [-1, 1], [7, -6]]\n",
        "y_pred = [[0, 1], [-1, 1], [8, -5]]\n",
        "\n",
        "\n",
        "mean_absolute_error(y_true, y_pred)\n",
        "\n",
        "\n",
        "# multioutputs: Defines aggregating of multiple output values. Array-like value defines weights used to average errors.\n",
        "\n",
        "#‘raw_values’ :Returns a full set of errors in case of multioutput input.\n",
        "# ‘uniform_average’ : Errors of all outputs are averaged with uniform weight.\n",
        "\n",
        "\n",
        "mean_absolute_error(y_true, y_pred, multioutput='raw_values')\n",
        "\n",
        "#mean_absolute_error(y_true, y_pred, multioutput=[0.3, 0.7])"
      ],
      "execution_count": null,
      "outputs": [
        {
          "output_type": "execute_result",
          "data": {
            "text/plain": [
              "array([0.33333333, 0.66666667])"
            ]
          },
          "metadata": {},
          "execution_count": 15
        }
      ]
    },
    {
      "cell_type": "markdown",
      "metadata": {
        "id": "ZQGGAy3DOlcJ"
      },
      "source": [
        "$\\text{MSE}(y, \\hat{y}) = \\frac{1}{n_\\text{samples}} \\sum_{i=0}^{n_\\text{samples} - 1} (y_i - \\hat{y}_i)^2$"
      ]
    },
    {
      "cell_type": "code",
      "metadata": {
        "id": "MPwZIEZaOlmQ",
        "colab": {
          "base_uri": "https://localhost:8080/"
        },
        "outputId": "97739f95-5bb1-4083-abd3-1ca7df59bea9"
      },
      "source": [
        "from sklearn.metrics import mean_squared_error\n",
        "y_true = [3, -0.5, 2, 7]\n",
        "y_pred = [2.5, 0.0, 2, 8]\n",
        "mean_squared_error(y_true, y_pred)\n",
        "\n"
      ],
      "execution_count": null,
      "outputs": [
        {
          "output_type": "execute_result",
          "data": {
            "text/plain": [
              "0.375"
            ]
          },
          "metadata": {},
          "execution_count": 16
        }
      ]
    },
    {
      "cell_type": "code",
      "metadata": {
        "id": "ZS5-Hdu2Owqa",
        "colab": {
          "base_uri": "https://localhost:8080/"
        },
        "outputId": "d9a84d89-7558-4813-9de8-bc019182ef41"
      },
      "source": [
        "y_true = [[0.5, 1],[-1, 1],[7, -6]]\n",
        "y_pred = [[0, 2],[-1, 2],[8, -5]]\n",
        "mean_squared_error(y_true, y_pred)\n",
        "\n",
        "mean_squared_error(y_true, y_pred, multioutput='raw_values')\n",
        "\n",
        "\n",
        "#mean_squared_error(y_true, y_pred, multioutput=[0.3, 0.7])"
      ],
      "execution_count": null,
      "outputs": [
        {
          "output_type": "execute_result",
          "data": {
            "text/plain": [
              "array([0.41666667, 1.        ])"
            ]
          },
          "metadata": {},
          "execution_count": 17
        }
      ]
    },
    {
      "cell_type": "markdown",
      "metadata": {
        "id": "Ll3d4IRNPUAB"
      },
      "source": [
        "$R^2(y, \\hat{y}) = 1 - \\frac{\\sum_{i=0}^{n_{\\text{samples}} - 1} (y_i - \\hat{y}_i)^2}{\\sum_{i=0}^{n_\\text{samples} - 1} (y_i - \\bar{y})^2}$"
      ]
    },
    {
      "cell_type": "code",
      "metadata": {
        "id": "1iqS6mdFPd_7",
        "outputId": "2c4c0aab-e23b-4983-c3d6-484b273c57a0",
        "colab": {
          "base_uri": "https://localhost:8080/"
        }
      },
      "source": [
        "from sklearn.metrics import r2_score\n",
        "y_true = [3, -0.5, 2, 7]\n",
        "y_pred = [2.5, 0.0, 2, 8]\n",
        "r2_score(y_true, y_pred)\n",
        "\n",
        "y_true = [[0.5, 1], [-1, 1], [7, -6]]\n",
        "y_pred = [[0, 2], [-1, 2], [8, -5]]\n",
        "r2_score(y_true, y_pred, multioutput='variance_weighted')\n",
        "\n",
        "\n",
        "y_true = [[0.5, 1], [-1, 1], [7, -6]]\n",
        "y_pred = [[0, 2], [-1, 2], [8, -5]]\n",
        "r2_score(y_true, y_pred, multioutput='uniform_average')\n",
        "\n",
        "\n",
        "r2_score(y_true, y_pred, multioutput='raw_values')\n",
        "\n",
        "\n",
        "r2_score(y_true, y_pred, multioutput=[0.3, 0.7])"
      ],
      "execution_count": null,
      "outputs": [
        {
          "output_type": "execute_result",
          "data": {
            "text/plain": [
              "0.9253456221198156"
            ]
          },
          "metadata": {},
          "execution_count": 18
        }
      ]
    }
  ]
}