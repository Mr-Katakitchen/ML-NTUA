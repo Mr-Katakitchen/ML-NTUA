{
  "nbformat": 4,
  "nbformat_minor": 0,
  "metadata": {
    "colab": {
      "provenance": [],
      "include_colab_link": true
    },
    "kernelspec": {
      "name": "python3",
      "display_name": "Python 3"
    },
    "language_info": {
      "name": "python"
    }
  },
  "cells": [
    {
      "cell_type": "markdown",
      "metadata": {
        "id": "view-in-github",
        "colab_type": "text"
      },
      "source": [
        "<a href=\"https://colab.research.google.com/github/Mr-Katakitchen/ML-NTUA/blob/main/lab1/MM2024_25_ex1_classification.ipynb\" target=\"_parent\"><img src=\"https://colab.research.google.com/assets/colab-badge.svg\" alt=\"Open In Colab\"/></a>"
      ]
    },
    {
      "cell_type": "markdown",
      "source": [
        "### Άσκηση ταξινόμησης"
      ],
      "metadata": {
        "id": "S5dJ6dakcgEG"
      }
    },
    {
      "cell_type": "markdown",
      "metadata": {
        "id": "vgvneoydNcsQ"
      },
      "source": [
        "Για τον πειραματισμό μας  θα χρησιμοποιήσουμε ως dataset το [Pima-Indians-diabetes](https://www.kaggle.com/datasets/uciml/pima-indians-diabetes-database). Θα φορτώσουμε το dataset και θα το χωρίσουμε σε data και σε labels."
      ]
    },
    {
      "cell_type": "code",
      "metadata": {
        "id": "EhR1lEjrF7wF",
        "colab": {
          "base_uri": "https://localhost:8080/"
        },
        "outputId": "7e598fdd-603c-4e7a-9118-24b8ef21df38"
      },
      "source": [
        "from IPython.display import Image\n",
        "from IPython.display import display\n",
        "\n",
        "import pandas as pd\n",
        "import numpy as np\n",
        "import matplotlib.pyplot as plt\n",
        "\n",
        "# inline plotting instead of popping out\n",
        "%matplotlib inline\n",
        "\n",
        "\n",
        "# e.g., plot_decision_regions()\n",
        "import os, sys\n",
        "module_path = os.path.abspath(os.path.join('.'))\n",
        "sys.path.append(module_path)\n",
        "\n",
        "\n",
        "# Load CSV using Pandas from URL\n",
        "\n",
        "url = \"https://raw.githubusercontent.com/jbrownlee/Datasets/master/pima-indians-diabetes.data.csv\"\n",
        "names = ['preg', 'plas', 'pres', 'skin', 'test', 'mass', 'pedi', 'age', 'class']\n",
        "data = pd.read_csv(url, names=names)\n",
        "print(data.shape)\n",
        "data.info() #shamone\n",
        "\n",
        "# separate array into input and output components\n",
        "# X: Features Y: Labels\n",
        "\n",
        "y = data['class']\n",
        "X = data.drop('class', axis=1)\n",
        "\n",
        "X.shape, y.shape"
      ],
      "execution_count": 141,
      "outputs": [
        {
          "output_type": "stream",
          "name": "stdout",
          "text": [
            "(768, 9)\n",
            "<class 'pandas.core.frame.DataFrame'>\n",
            "RangeIndex: 768 entries, 0 to 767\n",
            "Data columns (total 9 columns):\n",
            " #   Column  Non-Null Count  Dtype  \n",
            "---  ------  --------------  -----  \n",
            " 0   preg    768 non-null    int64  \n",
            " 1   plas    768 non-null    int64  \n",
            " 2   pres    768 non-null    int64  \n",
            " 3   skin    768 non-null    int64  \n",
            " 4   test    768 non-null    int64  \n",
            " 5   mass    768 non-null    float64\n",
            " 6   pedi    768 non-null    float64\n",
            " 7   age     768 non-null    int64  \n",
            " 8   class   768 non-null    int64  \n",
            "dtypes: float64(2), int64(7)\n",
            "memory usage: 54.1 KB\n"
          ]
        },
        {
          "output_type": "execute_result",
          "data": {
            "text/plain": [
              "((768, 8), (768,))"
            ]
          },
          "metadata": {},
          "execution_count": 141
        }
      ]
    },
    {
      "cell_type": "markdown",
      "metadata": {
        "id": "nhQvXFgcPPje"
      },
      "source": [
        "1. Χωρίστε τα data kai ta labels σε training (80%) και σε testing set (20%)."
      ]
    },
    {
      "cell_type": "code",
      "metadata": {
        "id": "ovXjOIweNa-a"
      },
      "source": [
        "from sklearn.model_selection import train_test_split\n",
        "\n",
        "\n",
        "X_train, X_test, y_train, y_test = train_test_split(X, y, test_size=0.20, random_state=34)\n",
        "#I change the random_state from time to time"
      ],
      "execution_count": 142,
      "outputs": []
    },
    {
      "cell_type": "markdown",
      "metadata": {
        "id": "FdeZ8SxzP30z"
      },
      "source": [
        "2.  Έπειτα χωρίστε το training set σε 70% και σε 30% όπου το 30% θα το χρησιμοποιήσουμε για validation."
      ]
    },
    {
      "cell_type": "code",
      "metadata": {
        "id": "j5jQBubSozRq"
      },
      "source": [
        "X_train, X_val, y_train, y_val = train_test_split(X_train, y_train, test_size=0.30, random_state=34)"
      ],
      "execution_count": 143,
      "outputs": []
    },
    {
      "cell_type": "code",
      "source": [
        "# Print the shapes of each split\n",
        "print(\"Training set shape (features):\", X_train.shape)\n",
        "print(\"Training set shape (labels):\", y_train.shape)\n",
        "print(\"Validation set shape (features):\", X_val.shape)\n",
        "print(\"Validation set shape (labels):\", y_val.shape)\n",
        "print(\"Test set shape (features):\", X_test.shape)\n",
        "print(\"Test set shape (labels):\", y_test.shape)\n",
        "\n",
        "# Check the distribution of labels in each split to ensure stratification worked\n",
        "print(\"\\nLabel distribution in training set:\", np.bincount(y_train))\n",
        "print(\"Label distribution in validation set:\", np.bincount(y_val))\n",
        "print(\"Label distribution in test set:\", np.bincount(y_test))\n",
        "\n",
        "#Making sure seperation is done correctly"
      ],
      "metadata": {
        "colab": {
          "base_uri": "https://localhost:8080/"
        },
        "id": "iiED_9hGpkXn",
        "outputId": "24ccb22d-f225-4572-eb9b-5c27bd190d64"
      },
      "execution_count": 145,
      "outputs": [
        {
          "output_type": "stream",
          "name": "stdout",
          "text": [
            "Training set shape (features): (429, 8)\n",
            "Training set shape (labels): (429,)\n",
            "Validation set shape (features): (185, 8)\n",
            "Validation set shape (labels): (185,)\n",
            "Test set shape (features): (154, 8)\n",
            "Test set shape (labels): (154,)\n",
            "\n",
            "Label distribution in training set: [278 151]\n",
            "Label distribution in validation set: [117  68]\n",
            "Label distribution in test set: [105  49]\n"
          ]
        }
      ]
    },
    {
      "cell_type": "markdown",
      "source": [
        "3. Επιλέξτε το καλύτερο αποτέλεσμα και εφαρμόστε αυτό το μοντέλο στα δεδομένα ελέγχου (test set)."
      ],
      "metadata": {
        "id": "yjHyFg9od441"
      }
    },
    {
      "cell_type": "code",
      "source": [
        "from sklearn.ensemble import RandomForestClassifier, GradientBoostingClassifier\n",
        "from sklearn.linear_model import LogisticRegression\n",
        "from sklearn.neighbors import KNeighborsClassifier\n",
        "from sklearn.svm import SVC\n",
        "from sklearn.metrics import accuracy_score\n",
        "\n",
        "# Create a dictionary of models to train\n",
        "models = {\n",
        "    \"Logistic Regression\": LogisticRegression(max_iter=500), #there was a warning if I didn't specify the iterator\n",
        "    \"Random Forest\": RandomForestClassifier(),\n",
        "    \"K-Nearest Neighbors\": KNeighborsClassifier(),\n",
        "    \"SVM\": SVC(),\n",
        "    \"Gradient Boosting\": GradientBoostingClassifier()\n",
        "}\n",
        "\n",
        "best_model = None\n",
        "best_score = 0\n",
        "\n",
        "#I guess this is hold out cross validation\n",
        "for name, model in models.items():\n",
        "    model.fit(X_train, y_train)\n",
        "    val_score = accuracy_score(y_val, model.predict(X_val))\n",
        "    print(f\"{name} Validation Accuracy: {val_score}\")\n",
        "\n",
        "    if val_score > best_score:\n",
        "        best_score = val_score\n",
        "        best_model = model\n",
        "\n",
        "print(\"\\nBest Model:\", best_model)\n"
      ],
      "metadata": {
        "id": "iAdKvdt-eip0",
        "colab": {
          "base_uri": "https://localhost:8080/"
        },
        "outputId": "f43a082e-df4f-44bb-cc52-95d810a37272"
      },
      "execution_count": 146,
      "outputs": [
        {
          "output_type": "stream",
          "name": "stdout",
          "text": [
            "Logistic Regression Validation Accuracy: 0.7621621621621621\n",
            "Random Forest Validation Accuracy: 0.7621621621621621\n",
            "K-Nearest Neighbors Validation Accuracy: 0.7027027027027027\n",
            "SVM Validation Accuracy: 0.7135135135135136\n",
            "Gradient Boosting Validation Accuracy: 0.7189189189189189\n",
            "\n",
            "Best Model: LogisticRegression(max_iter=500)\n"
          ]
        }
      ]
    },
    {
      "cell_type": "code",
      "source": [
        "from sklearn.metrics import classification_report\n",
        "\n",
        "# Logistic Regression came up with the best score most of the time (not always)\n",
        "# Random Forest Classifier comes second, SVM third\n",
        "# Might be because Logistic Regression seems to be optimal for data with a binary outcome\n",
        "\n",
        "best_model_prediction = best_model.predict(X_test)\n",
        "\n",
        "test_accuracy = accuracy_score(y_test, best_model_prediction)\n",
        "print(f\"Test Accuracy: {test_accuracy}\")\n",
        "\n",
        "print(\"\\nClassification Report:\")\n",
        "print(classification_report(y_test, best_model_prediction))\n",
        "\n",
        "print(\"Labels' prediction \",best_model_prediction)\n",
        "print(\"Labels from test set:\", y_test.values)"
      ],
      "metadata": {
        "colab": {
          "base_uri": "https://localhost:8080/"
        },
        "id": "uL4DmZDit7Wp",
        "outputId": "05b864f6-b15e-4f46-d531-6bf9b2ff20de"
      },
      "execution_count": 150,
      "outputs": [
        {
          "output_type": "stream",
          "name": "stdout",
          "text": [
            "Test Accuracy: 0.8246753246753247\n",
            "\n",
            "Classification Report:\n",
            "              precision    recall  f1-score   support\n",
            "\n",
            "           0       0.84      0.92      0.88       105\n",
            "           1       0.79      0.61      0.69        49\n",
            "\n",
            "    accuracy                           0.82       154\n",
            "   macro avg       0.81      0.77      0.78       154\n",
            "weighted avg       0.82      0.82      0.82       154\n",
            "\n",
            "Labels' prediction  [0 0 1 0 0 0 0 0 0 1 0 0 0 0 0 0 1 1 1 0 0 0 0 1 0 0 0 0 0 0 0 0 0 0 0 0 0\n",
            " 1 0 0 1 0 0 0 0 0 1 0 1 0 0 0 0 0 0 0 0 0 0 1 0 0 0 1 0 0 0 1 0 0 0 0 0 0\n",
            " 1 1 0 0 1 0 0 0 0 0 1 0 1 0 1 1 0 0 1 0 0 0 1 0 0 1 0 0 1 0 0 0 0 0 0 1 0\n",
            " 0 1 0 0 0 0 1 0 0 1 0 0 0 0 1 1 1 1 0 0 1 1 0 0 1 1 0 0 1 0 0 0 0 0 0 1 0\n",
            " 0 0 0 0 0 0]\n",
            "Labels from test set: [0 0 1 0 0 0 1 0 1 1 0 0 1 0 0 0 1 0 1 0 1 0 0 0 0 1 1 0 0 1 0 0 0 0 0 1 0\n",
            " 1 0 0 1 0 0 0 0 0 1 0 0 0 0 0 0 0 0 0 0 0 1 1 0 0 0 1 0 1 1 0 0 0 0 0 0 0\n",
            " 1 1 0 0 1 0 0 0 0 0 1 0 1 0 1 1 0 0 1 1 0 0 1 0 0 1 0 0 1 0 0 0 0 0 0 1 0\n",
            " 1 1 1 0 0 0 1 1 0 1 0 0 0 0 0 1 0 1 1 0 1 1 0 0 1 0 0 0 1 0 0 0 0 1 0 0 0\n",
            " 0 0 0 0 1 1]\n"
          ]
        }
      ]
    },
    {
      "cell_type": "markdown",
      "source": [
        "4. Eκπαιδεύσετε έναν  Gaussian Naive Bayes  classifier, χρησιμοποιώντας το αρχικό σύνολο δεδομένο και εφαρμόζοντας 5 fold cross validation. Τυπώστε τα αποτελέσματα."
      ],
      "metadata": {
        "id": "OCOkG3QOeqb8"
      }
    },
    {
      "cell_type": "code",
      "source": [
        "from sklearn.naive_bayes import GaussianNB\n",
        "from sklearn.model_selection import cross_val_score\n",
        "\n",
        "# Initialize the classifier\n",
        "gnb = GaussianNB()\n",
        "\n",
        "# Train the classifier:\n",
        "gnb_model = gnb.fit(X_train, y_train)\n",
        "\n",
        "# Perform 5-fold cross-validation\n",
        "cv_scores = cross_val_score(gnb, X_train, y_train, cv=5)\n",
        "\n",
        "# Print cross-validation results\n",
        "print(\"Cross-Validation Accuracy Scores:\", cv_scores)\n",
        "print(\"Mean Cross-Validation Accuracy:\", cv_scores.mean())"
      ],
      "metadata": {
        "id": "hHcB2wxBfJdc",
        "colab": {
          "base_uri": "https://localhost:8080/"
        },
        "outputId": "ed3438a1-4df4-4a08-f4cc-63b2311db93e"
      },
      "execution_count": 151,
      "outputs": [
        {
          "output_type": "stream",
          "name": "stdout",
          "text": [
            "Cross-Validation Accuracy Scores: [0.73255814 0.70930233 0.6627907  0.76744186 0.8       ]\n",
            "Mean Cross-Validation Accuracy: 0.7344186046511627\n"
          ]
        }
      ]
    },
    {
      "cell_type": "markdown",
      "source": [
        "6. Eφαρμόστε το μοντέλο που εκπαιδεύσατε στα δεδομένα ελέγχου (test set)"
      ],
      "metadata": {
        "id": "9jzdIQ_ke5Ru"
      }
    },
    {
      "cell_type": "code",
      "source": [
        "gnb_prediction = gnb_model.predict(X_test)\n",
        "\n",
        "gnb_accuracy = accuracy_score(y_test, gnb_prediction)\n",
        "print(f\"Test Accuracy: {gnb_accuracy}\")\n",
        "\n",
        "print(\"\\nClassification Report:\")\n",
        "print(classification_report(y_test, gnb_prediction))\n",
        "\n",
        "print(\"Labels' prediction \",gnb_prediction)\n",
        "print(\"Labels from test set:\", y_test.values)"
      ],
      "metadata": {
        "id": "FwMpq77te5BV",
        "colab": {
          "base_uri": "https://localhost:8080/"
        },
        "outputId": "2fa53ed4-4c93-437f-a76a-2d00bcab87ef"
      },
      "execution_count": 152,
      "outputs": [
        {
          "output_type": "stream",
          "name": "stdout",
          "text": [
            "Test Accuracy: 0.8376623376623377\n",
            "\n",
            "Classification Report:\n",
            "              precision    recall  f1-score   support\n",
            "\n",
            "           0       0.86      0.90      0.88       105\n",
            "           1       0.77      0.69      0.73        49\n",
            "\n",
            "    accuracy                           0.84       154\n",
            "   macro avg       0.82      0.80      0.81       154\n",
            "weighted avg       0.83      0.84      0.84       154\n",
            "\n",
            "Labels' prediction  [0 0 1 0 0 0 0 0 0 1 0 0 0 0 0 0 1 1 1 0 0 0 0 1 0 0 0 0 0 0 1 0 0 0 0 0 0\n",
            " 1 0 0 1 0 0 0 0 0 1 0 1 0 0 0 0 0 0 0 0 0 0 0 0 0 0 1 0 0 1 1 0 0 0 0 0 0\n",
            " 1 1 0 0 1 0 0 0 0 0 1 0 1 0 1 1 0 0 1 1 0 0 1 0 0 1 0 0 1 0 0 0 0 0 0 1 0\n",
            " 1 1 0 0 0 0 1 0 0 1 0 1 0 0 1 1 1 1 1 0 1 1 0 0 1 1 0 0 1 0 0 0 0 1 0 1 0\n",
            " 0 0 0 0 0 0]\n",
            "Labels from test set: [0 0 1 0 0 0 1 0 1 1 0 0 1 0 0 0 1 0 1 0 1 0 0 0 0 1 1 0 0 1 0 0 0 0 0 1 0\n",
            " 1 0 0 1 0 0 0 0 0 1 0 0 0 0 0 0 0 0 0 0 0 1 1 0 0 0 1 0 1 1 0 0 0 0 0 0 0\n",
            " 1 1 0 0 1 0 0 0 0 0 1 0 1 0 1 1 0 0 1 1 0 0 1 0 0 1 0 0 1 0 0 0 0 0 0 1 0\n",
            " 1 1 1 0 0 0 1 1 0 1 0 0 0 0 0 1 0 1 1 0 1 1 0 0 1 0 0 0 1 0 0 0 0 1 0 0 0\n",
            " 0 0 0 0 1 1]\n"
          ]
        }
      ]
    },
    {
      "cell_type": "markdown",
      "source": [
        "7. Εκτυπώστε τον confusion matrix και για τους δύο ταξινομητές που εκπαιδεύσατε και ελέγξατε.\n"
      ],
      "metadata": {
        "id": "24PEwKu8fPVt"
      }
    },
    {
      "cell_type": "code",
      "source": [
        "from sklearn.metrics import confusion_matrix\n",
        "\n",
        "# Confusion matrix for best model according to previous comparison\n",
        "cnf_matrix_bestModel = confusion_matrix(y_test, best_model_prediction)\n",
        "\n",
        "  # τυπώνουμε το confusion matrix\n",
        "print(\"confusion matrix for best model from before\")\n",
        "print('   0   1')\n",
        "print('0', cnf_matrix_bestModel[0])\n",
        "print('1', cnf_matrix_bestModel[1], '\\n')\n",
        "\n",
        "# Confusion matrix of gnb\n",
        "cnf_matrix_gnb = confusion_matrix(y_test, gnb_prediction)\n",
        "\n",
        "  # τυπώνουμε το confusion matrix\n",
        "print(\"confusion matrix for gnb\")\n",
        "print('   0   1')\n",
        "print('0', cnf_matrix_gnb[0])\n",
        "print('1', cnf_matrix_gnb[1])\n",
        "\n",
        "#Not too many false positives, false negatives\n",
        "#Sometimes gnb does better, sometimes not\n",
        "#Results vary with each random_state during data grouping"
      ],
      "metadata": {
        "id": "39h9e96Wf4FF",
        "colab": {
          "base_uri": "https://localhost:8080/"
        },
        "outputId": "6122629d-b363-42d0-e407-0e4aee1e8092"
      },
      "execution_count": 154,
      "outputs": [
        {
          "output_type": "stream",
          "name": "stdout",
          "text": [
            "confusion matrix for best model from before\n",
            "   0   1\n",
            "0 [97  8]\n",
            "1 [19 30] \n",
            "\n",
            "confusion matrix for gnb\n",
            "   0   1\n",
            "0 [95 10]\n",
            "1 [15 34]\n"
          ]
        }
      ]
    }
  ]
}