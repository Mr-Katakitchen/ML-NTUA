{
  "nbformat": 4,
  "nbformat_minor": 0,
  "metadata": {
    "colab": {
      "provenance": [],
      "include_colab_link": true
    },
    "kernelspec": {
      "name": "python3",
      "display_name": "Python 3"
    },
    "language_info": {
      "name": "python"
    }
  },
  "cells": [
    {
      "cell_type": "markdown",
      "metadata": {
        "id": "view-in-github",
        "colab_type": "text"
      },
      "source": [
        "<a href=\"https://colab.research.google.com/github/Mr-Katakitchen/ML-NTUA/blob/main/lab1/MM2024_25_LabProject1.ipynb\" target=\"_parent\"><img src=\"https://colab.research.google.com/assets/colab-badge.svg\" alt=\"Open In Colab\"/></a>"
      ]
    },
    {
      "cell_type": "markdown",
      "source": [
        "###Μηχανική Μάθηση\n",
        "####1η ατομική εργασία\n",
        "ΣΗΜΜΥ- ΕΜΠ -Ακ. Έτος 2024-25\n",
        "\n"
      ],
      "metadata": {
        "id": "Dv7UKdyCAnqD"
      }
    },
    {
      "cell_type": "markdown",
      "source": [
        "# ⚠️\n",
        "`Επισημαίνεται ότι απαγορεύεται η ανάρτηση των λύσεων των εργαστηριακών ασκήσεων στο github, ή σε άλλες ιστοσελίδες. Η σχεδίαση και το περιεχόμενο των εργαστηριακών projects αποτελούν αντικείμενο πνευματικής ιδιοκτησίας της διδακτικής ομάδας του μαθήματος.`"
      ],
      "metadata": {
        "id": "hL5bHZx06KZc"
      }
    },
    {
      "cell_type": "markdown",
      "source": [
        " `⚠️  Το σύνολο δεδομένων που σας δόθηκε δεν πρέπει να εμπλουτισθεί με οποιοδήποτε τρόπο. Η εργασία στην οποία θα χρησιμοποιηθεί εμπλουτισμένο σύνολο δεδομένων, δεν θα διορθωθεί.`"
      ],
      "metadata": {
        "id": "vqmQiAojwM3Z"
      }
    },
    {
      "cell_type": "markdown",
      "source": [
        "Ονοματεπώνυμο φοιτητή:\n",
        "\n",
        "Α.Μ.:"
      ],
      "metadata": {
        "id": "oAx-ib_pBrq9"
      }
    },
    {
      "cell_type": "markdown",
      "source": [
        "### 1. Εισαγωγή συνόλου δεδομένων\n",
        "\n",
        "Tο σύνολο δεδομένων για το training-validation μπορείτε να το κατεβάσετε από [εδώ](https://drive.google.com/file/d/1ro8ff5KZwErgkxIvb3D5ykp2l5nV75Yj/view?usp=sharing).\n"
      ],
      "metadata": {
        "id": "M7IkqlgaGLr2"
      }
    },
    {
      "cell_type": "markdown",
      "source": [
        "1.α. Φορτώστε το σύνολο δεδομένων \"train-val.csv\"  στο notebook σας."
      ],
      "metadata": {
        "id": "Qe4uFFcv9XF3"
      }
    },
    {
      "cell_type": "code",
      "source": [],
      "metadata": {
        "id": "fbQtw6iYBrJk"
      },
      "execution_count": null,
      "outputs": []
    },
    {
      "cell_type": "markdown",
      "source": [
        "### 2. Διερευνητική ανάλυση δεδομένων -Exploratory Data Analysis (EDA)\n",
        "Χρησιμοποιήστε code cells  με τις κατάλληλες τεχνικές EDA για την κατανόηση του συνόλου δεδομένων και text cells για επεξήγηση των αποτελεσμάτων."
      ],
      "metadata": {
        "id": "wrxF1hO1HPpJ"
      }
    },
    {
      "cell_type": "markdown",
      "source": [
        "Χρησιμοποιώντας τις κατάλληλες μεθόδους παρουσιάστε με χρήση κώδικα πληροφορίες για τα εξής:\n",
        "\n",
        "2α. το πλήθος των δειγμάτων και των χαρακτηριστικών του συνόλου δεδομένων,\n",
        "\n",
        "2β. το είδος των χαρακτηριστικών του συνόλου δεδομένων,  \n",
        "\n",
        "2γ. τις ετικέτες των χαρακτηριστικών,\n",
        "\n",
        "2δ. το πλήθος των κατηγοριών,\n",
        "\n",
        "2ε. πόσα δείγματα ανήκουν σε κάθε κατηγορία,\n",
        "\n",
        "2στ. τη συσχέτιση μεταξύ των δεδομένων,\n",
        "\n",
        "2ζ. οποιαδήποτε άλλη πληροφορία πιστεύετε ότι είναι χρήσιμη για την κατανόηση του συνόλου δεδομένων."
      ],
      "metadata": {
        "id": "fT33H0HPJ7Hg"
      }
    },
    {
      "cell_type": "code",
      "source": [],
      "metadata": {
        "id": "dnd0K49PNK1T"
      },
      "execution_count": null,
      "outputs": []
    },
    {
      "cell_type": "markdown",
      "source": [
        " ⚠️ Κατά την προεπεξεργασία του συνόλου δεδομένων (τόσο του train-val όσο και του test) **MHN ΑΦΑΙΡΕΣΕΤΕ ΤΗΝ ΣΤΗΛΗ ID**  διότι χρειάζεται για τον διαγωνισμό kaggle."
      ],
      "metadata": {
        "id": "ZGcq_wvIYQkR"
      }
    },
    {
      "cell_type": "markdown",
      "source": [
        "### 3. Προεπεξεργασία συνόλου δεδομένων\n",
        "💡`Χρησιμοποιήστε το Column Transformer για τη δημιουργία και την εφαρμογή χωριστών μετασχηματιστών για αριθμητικά και κατηγορικά δεδομένα.`\n",
        "\n",
        "\n"
      ],
      "metadata": {
        "id": "EbK3in0hNMeI"
      }
    },
    {
      "cell_type": "markdown",
      "source": [
        "3.α.  Θα χρησιμοποιήσετε όλα τα χαρακτηριστικά του συνόλου δεδομένων για την εκπαίδευση των ταξινομητών ή θα επιλέξετε κάποια από αυτά;  Θα κάνετε κάποια συνένωση κάποιων χαρακτηριστικών για δημιουργία νέων χαρακτηριστικών για το μοντέλο σας;\n"
      ],
      "metadata": {
        "id": "mKsQVCnLQZ30"
      }
    },
    {
      "cell_type": "code",
      "source": [],
      "metadata": {
        "id": "Eqb25dcKNMvg"
      },
      "execution_count": null,
      "outputs": []
    },
    {
      "cell_type": "markdown",
      "source": [
        "3.β. Υπάρχουν απουσιάζουσες τιμές; Γράψτε κατάλληλο κώδικα ώστε να χειριστείτε αυτές τις τιμές."
      ],
      "metadata": {
        "id": "GPCa3SklNmBe"
      }
    },
    {
      "cell_type": "code",
      "source": [],
      "metadata": {
        "id": "1e_E53VJN8a2"
      },
      "execution_count": null,
      "outputs": []
    },
    {
      "cell_type": "markdown",
      "source": [
        "3.γ. Γράψτε κώδικα για την κατάλληλη μετατροπή των κατηγορικών μεταβλητών ώστε να μπορούν να τους διαχειριστούν οι ταξινομητές που θα χρησιμοποιήσετε."
      ],
      "metadata": {
        "id": "ZRq1eHYfNoEO"
      }
    },
    {
      "cell_type": "code",
      "source": [],
      "metadata": {
        "id": "NxRunryNQiXa"
      },
      "execution_count": null,
      "outputs": []
    },
    {
      "cell_type": "markdown",
      "source": [
        "3.δ. Γράψτε κώδικα για την κλιμάκωση των χαρακτηριστικών, αν την θεωρείτε απαραίτητη"
      ],
      "metadata": {
        "id": "KWsb4KQmQiFc"
      }
    },
    {
      "cell_type": "code",
      "source": [],
      "metadata": {
        "id": "EXkL_EFfNom-"
      },
      "execution_count": null,
      "outputs": []
    },
    {
      "cell_type": "markdown",
      "source": [
        "3.ε. Εκτελέστε όλα τα προηγούμενα βήμα προεκπαίδευσης (χρήση μετασχηματιστών) ώστε να είναι \"καθαρό\" το αρχικό σύνολο για να χρησιμοποιηθεί για την εκπαίδευση των ταξινομητών."
      ],
      "metadata": {
        "id": "_S2tynpfhaOu"
      }
    },
    {
      "cell_type": "code",
      "source": [],
      "metadata": {
        "id": "_LdteolxhZfi"
      },
      "execution_count": null,
      "outputs": []
    },
    {
      "cell_type": "markdown",
      "source": [
        "3.στ. Αφού έχετε \"καθαρίσει\" το αρχικό σύνολο εκπαίδευσης, γράψτε τον κατάλληλο κώδικα ώστε από το αρχικό σύνολο εκπαίδευσης να δημιουργήσετε τα σύνολα Χ και y.\n",
        "\n",
        "💡 `Η στήλη 'RainTomorrow' είναι η τιμή που θέλουμε να προβλέψει ο ταξινομητής μας.`\n",
        "\n"
      ],
      "metadata": {
        "id": "OeD8amKKLJFr"
      }
    },
    {
      "cell_type": "code",
      "source": [],
      "metadata": {
        "id": "FysfIb93LJxS"
      },
      "execution_count": null,
      "outputs": []
    },
    {
      "cell_type": "markdown",
      "source": [
        "3.ζ. Διαχωρίστε το σύνολο δεδομένων σε σύνολο εκπαίδευσης (train set) και σε σύνολο επικύρωσης (validation set) (ο διαχωρισμός να είναι train set 70% και validation set 30%).\n"
      ],
      "metadata": {
        "id": "8oU_se4UT0JF"
      }
    },
    {
      "cell_type": "code",
      "source": [],
      "metadata": {
        "id": "wcwB_TK1ixvl"
      },
      "execution_count": null,
      "outputs": []
    },
    {
      "cell_type": "markdown",
      "source": [
        "### 4. Εκπαίδευση μοντέλου με default τιμές στις παραμέτρους των ταξινομητών\n",
        "\n",
        "Θα εκπαιδεύσουμε τους ακόλουθους ταξινομητές με το σύνολο εκπαίδευσης των δεδομένων μας:\n",
        "1. Naive Bayes\n",
        "2. KNeighborsClassifier\n",
        "3. LogisticRegression\n",
        "4. MLP με ένα κρυφό επίπεδο\n",
        "5. SVC\n",
        "6. Decision Tree\n",
        "7. Random Forest\n"
      ],
      "metadata": {
        "id": "xhITyhMuSslH"
      }
    },
    {
      "cell_type": "code",
      "source": [],
      "metadata": {
        "id": "-r3kEVgkU0OF"
      },
      "execution_count": null,
      "outputs": []
    },
    {
      "cell_type": "markdown",
      "source": [
        " 4.α. Εκπαιδεύστε (fit)  και τους  7 ταξινομητές που προαναφέρθηκαν (εμφανίστε τα δείγματα από το train set μαζί με την ετικέτα τους στην είσοδο του κάθε ταξινομητή), χρησιμοποιώντας τις default τιμές για όλες τις παραμέτρους τους."
      ],
      "metadata": {
        "id": "a49EG4Z9U0yD"
      }
    },
    {
      "cell_type": "code",
      "source": [],
      "metadata": {
        "id": "-_kDpm_sWRjs"
      },
      "execution_count": null,
      "outputs": []
    },
    {
      "cell_type": "markdown",
      "source": [
        "4.β. Εφαρμόστε στα εκπαιδευμένα μοντέλα από το validation set μόνο τα δείγματα χωρίς την ετικέτα τους (predict).\n"
      ],
      "metadata": {
        "id": "dkv21zidSgNX"
      }
    },
    {
      "cell_type": "code",
      "source": [],
      "metadata": {
        "id": "3DqkKHMZQaDe"
      },
      "execution_count": null,
      "outputs": []
    },
    {
      "cell_type": "markdown",
      "source": [
        "\n",
        "4.γ. Συγκρίνετε την έξοδο του κάθε μοντέλου σε σχέση με τις αντίστοιχες ετικέτες του validation set και αξιολογήστε την επιδοσή τους χρησιμοποιώντας το F1 score.\n"
      ],
      "metadata": {
        "id": "BsvLlbPRWaa_"
      }
    },
    {
      "cell_type": "code",
      "source": [],
      "metadata": {
        "id": "9jkFxtNbWZvY"
      },
      "execution_count": null,
      "outputs": []
    },
    {
      "cell_type": "markdown",
      "source": [
        "4.δ.  Αξιολογήστε συνολικά την επίδοση των μοντέλων χρησιμοποιώντας κάποιο γράφημα (π.χ. ιστόγραμμα, bar plot) και σχολιάστε ποιο μοντέλο είχε την καλύτερη επίδοση.\n"
      ],
      "metadata": {
        "id": "F1SXqT2vWZTh"
      }
    },
    {
      "cell_type": "code",
      "source": [],
      "metadata": {
        "id": "UOiOlTcJjISQ"
      },
      "execution_count": null,
      "outputs": []
    },
    {
      "cell_type": "markdown",
      "source": [
        "### 5. Προετοιμασία αρχείου για την πρώτη υποβολή στο kaggle"
      ],
      "metadata": {
        "id": "f1ZWds7ekAsL"
      }
    },
    {
      "cell_type": "code",
      "source": [],
      "metadata": {
        "id": "ECIBVgytZupZ"
      },
      "execution_count": null,
      "outputs": []
    },
    {
      "cell_type": "markdown",
      "source": [
        "5.α. Χρησιμοποιήστε **ΜΟΝΟ** το μοντέλο σας με την καλύτερη επίδοση για να κάνετε προβλέψεις, χρησιμοποιώντας το [test set](https://drive.google.com/file/d/14HsEya9h1wxk2wJLh6c0Ibz2V4_WA13p/view?usp=sharing).\n"
      ],
      "metadata": {
        "id": "atEnldNpkSTG"
      }
    },
    {
      "cell_type": "code",
      "source": [],
      "metadata": {
        "id": "UM0B638pkBLC"
      },
      "execution_count": null,
      "outputs": []
    },
    {
      "cell_type": "markdown",
      "source": [
        "5.β. Αποθηκεύστε τις προβλέψεις από το καλύτερο μοντέλο σας σε ένα csv αρχείο. To csv αρχείο θα πρέπει να είναι περιέχει 2 στήλες: η πρώτη στήλη να περιέχει την στήλη ID του test set file και η δεύτερη στήλη τις αντίστοιχες προβλέψεις που έκανε το καλύτερα εκπαιδευμένο μοντέλο σας (βήμα 5α)."
      ],
      "metadata": {
        "id": "_WwjA-3kjFRj"
      }
    },
    {
      "cell_type": "code",
      "source": [],
      "metadata": {
        "id": "Z6SPFOpZjF5l"
      },
      "execution_count": null,
      "outputs": []
    },
    {
      "cell_type": "markdown",
      "source": [
        "### 6. Βελτιστοποίηση μοντέλων με εύρεση καλύτερων υπερπαραμέτρων των ταξινομητών\n",
        "\n",
        "6.α. Για τους 7 ταξινομητές βελτιστοποιήστε την επίδοσή τους χρησιμοποιώντας αναζήτηση πλέγματος με διασταυρούμενη επικύρωση (k-fold 5)  με σκοπό την εύρεση των βέλτιστων υπερπαραμέτρων."
      ],
      "metadata": {
        "id": "j6OoLlxrYILN"
      }
    },
    {
      "cell_type": "code",
      "source": [],
      "metadata": {
        "id": "FK_zetZLlOeV"
      },
      "execution_count": null,
      "outputs": []
    },
    {
      "cell_type": "markdown",
      "source": [
        "6.β. Εφαρμόστε στα εκπαιδευμένα μοντέλα από το validation set μόνο τα δείγματα χωρίς την ετικέτα τους (predict).\n"
      ],
      "metadata": {
        "id": "KD2jGJgUloMW"
      }
    },
    {
      "cell_type": "code",
      "source": [],
      "metadata": {
        "id": "ANPd125TloMW"
      },
      "execution_count": null,
      "outputs": []
    },
    {
      "cell_type": "markdown",
      "source": [
        "\n",
        "6.γ. Συγκρίνετε την έξοδο του κάθε μοντέλου σε σχέση με τις αντίστοιχες ετικέτες του validation set και αξιολογήστε την επιδοσή τους χρησιμοποιώντας το F1 score.\n"
      ],
      "metadata": {
        "id": "hj_7xTZ-loMW"
      }
    },
    {
      "cell_type": "code",
      "source": [],
      "metadata": {
        "id": "YsJB5GanloMW"
      },
      "execution_count": null,
      "outputs": []
    },
    {
      "cell_type": "markdown",
      "source": [
        "6.δ.  Αξιολογήστε συνολικά την επίδοση των μοντέλων χρησιμοποιώντας κάποιο γράφημα (π.χ. ιστόγραμμα, bar plot) και σχολιάστε ποιο μοντέλο είχε την καλύτερη επίδοση.\n"
      ],
      "metadata": {
        "id": "l6vs5gOQloMW"
      }
    },
    {
      "cell_type": "code",
      "source": [],
      "metadata": {
        "id": "EsAWlUCUloMX"
      },
      "execution_count": null,
      "outputs": []
    },
    {
      "cell_type": "markdown",
      "source": [
        "### 7. Προετοιμασία αρχείου για τη δεύτερη υποβολή στο kaggle"
      ],
      "metadata": {
        "id": "DrWizICNmItV"
      }
    },
    {
      "cell_type": "markdown",
      "source": [
        "7.α. Χρησιμοποιήστε **ΜΟΝΟ** το μοντέλο σας με την καλύτερη επίδοση για να κάνετε προβλέψεις χρησιμοποιώντας το δοθέν σύνολο εκπαίδευσης (test set).\n"
      ],
      "metadata": {
        "id": "GzoRElvAmItV"
      }
    },
    {
      "cell_type": "code",
      "source": [],
      "metadata": {
        "id": "HlEBQIOnmItV"
      },
      "execution_count": null,
      "outputs": []
    },
    {
      "cell_type": "markdown",
      "source": [
        "7.β. Αποθηκεύστε τις προβλέψεις από το καλύτερο μοντέλο σας σε ένα csv αρχείο. To csv αρχείο θα πρέπει να είναι περιέχει 2 στήλες: η πρώτη στήλη να περιέχει την στήλη id του test set file και η δεύτερη στήλη τις αντίστοιχες προβλέψεις που έκανε το καλύτερα εκπαιδευμένο μοντέλο σας (βήμα 7α)."
      ],
      "metadata": {
        "id": "TA2fuBn9mItW"
      }
    },
    {
      "cell_type": "code",
      "source": [],
      "metadata": {
        "id": "9A1YaimKmItW"
      },
      "execution_count": null,
      "outputs": []
    }
  ]
}