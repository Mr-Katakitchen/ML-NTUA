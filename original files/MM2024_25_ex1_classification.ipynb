{
  "nbformat": 4,
  "nbformat_minor": 0,
  "metadata": {
    "colab": {
      "provenance": [],
      "include_colab_link": true
    },
    "kernelspec": {
      "name": "python3",
      "display_name": "Python 3"
    },
    "language_info": {
      "name": "python"
    }
  },
  "cells": [
    {
      "cell_type": "markdown",
      "metadata": {
        "id": "view-in-github",
        "colab_type": "text"
      },
      "source": [
        "<a href=\"https://colab.research.google.com/github/Mr-Katakitchen/ML-NTUA/blob/main/original%20files/MM2024_25_ex1_classification.ipynb\" target=\"_parent\"><img src=\"https://colab.research.google.com/assets/colab-badge.svg\" alt=\"Open In Colab\"/></a>"
      ]
    },
    {
      "cell_type": "markdown",
      "source": [
        "### Άσκηση ταξινόμησης"
      ],
      "metadata": {
        "id": "S5dJ6dakcgEG"
      }
    },
    {
      "cell_type": "markdown",
      "metadata": {
        "id": "vgvneoydNcsQ"
      },
      "source": [
        "Για τον πειραματισμό μας  θα χρησιμοποιήσουμε ως dataset το [Pima-Indians-diabetes](https://www.kaggle.com/datasets/uciml/pima-indians-diabetes-database). Θα φορτώσουμε το dataset και θα το χωρίσουμε σε data και σε labels."
      ]
    },
    {
      "cell_type": "code",
      "metadata": {
        "id": "EhR1lEjrF7wF",
        "colab": {
          "base_uri": "https://localhost:8080/"
        },
        "outputId": "0ecf011c-d0ae-4bc1-9072-e156452c3e8e"
      },
      "source": [
        "from IPython.display import Image\n",
        "from IPython.display import display\n",
        "\n",
        "import pandas as pd\n",
        "import numpy as np\n",
        "import matplotlib.pyplot as plt\n",
        "\n",
        "# inline plotting instead of popping out\n",
        "%matplotlib inline\n",
        "\n",
        "\n",
        "# e.g., plot_decision_regions()\n",
        "import os, sys\n",
        "module_path = os.path.abspath(os.path.join('.'))\n",
        "sys.path.append(module_path)\n",
        "\n",
        "\n",
        "# Load CSV using Pandas from URL\n",
        "\n",
        "url = \"https://raw.githubusercontent.com/jbrownlee/Datasets/master/pima-indians-diabetes.data.csv\"\n",
        "names = ['preg', 'plas', 'pres', 'skin', 'test', 'mass', 'pedi', 'age', 'class']\n",
        "data = pd.read_csv(url, names=names)\n",
        "print(data.shape)\n",
        "\n",
        "# separate array into input and output components\n",
        "# X: Features Y: Labels\n",
        "\n",
        "y = data['class']\n",
        "X = data.drop('class', axis=1)\n",
        "\n",
        "X.shape, y.shape"
      ],
      "execution_count": null,
      "outputs": [
        {
          "output_type": "stream",
          "name": "stdout",
          "text": [
            "(768, 9)\n"
          ]
        },
        {
          "output_type": "execute_result",
          "data": {
            "text/plain": [
              "((768, 8), (768,))"
            ]
          },
          "metadata": {},
          "execution_count": 1
        }
      ]
    },
    {
      "cell_type": "markdown",
      "metadata": {
        "id": "nhQvXFgcPPje"
      },
      "source": [
        "1. Χωρίστε τα data kai ta labels σε training (80%) και σε testing set (20%)."
      ]
    },
    {
      "cell_type": "code",
      "metadata": {
        "id": "ovXjOIweNa-a"
      },
      "source": [
        "from sklearn.model_selection import train_test_split\n"
      ],
      "execution_count": null,
      "outputs": []
    },
    {
      "cell_type": "markdown",
      "metadata": {
        "id": "FdeZ8SxzP30z"
      },
      "source": [
        "2.  Έπειτα χωρίστε το training set σε 70% και σε 30% όπου το 30% θα το χρησιμοποιήσουμε για validation."
      ]
    },
    {
      "cell_type": "code",
      "metadata": {
        "id": "kUVpllGwQABB"
      },
      "source": [],
      "execution_count": null,
      "outputs": []
    },
    {
      "cell_type": "markdown",
      "source": [
        "3. Επιλέξτε το καλύτερο αποτέλεσμα και εφαρμόστε αυτό το μοντέλο στα δεδομένα ελέγχου (test set)."
      ],
      "metadata": {
        "id": "yjHyFg9od441"
      }
    },
    {
      "cell_type": "code",
      "source": [],
      "metadata": {
        "id": "iAdKvdt-eip0"
      },
      "execution_count": null,
      "outputs": []
    },
    {
      "cell_type": "markdown",
      "source": [
        "4. Eκπαιδεύσετε έναν  Gaussian Naive Bayes  classifier, χρησιμοποιώντας το αρχικό σύνολο δεδομένο και εφαρμόζοντας 5 fold cross validation. Τυπώστε τα αποτελέσματα."
      ],
      "metadata": {
        "id": "OCOkG3QOeqb8"
      }
    },
    {
      "cell_type": "code",
      "source": [],
      "metadata": {
        "id": "hHcB2wxBfJdc"
      },
      "execution_count": null,
      "outputs": []
    },
    {
      "cell_type": "markdown",
      "source": [
        "6. Eφαρμόστε το μοντέλο που εκπαιδεύσατε στα δεδομένα ελέγχου (test set)"
      ],
      "metadata": {
        "id": "9jzdIQ_ke5Ru"
      }
    },
    {
      "cell_type": "code",
      "source": [],
      "metadata": {
        "id": "FwMpq77te5BV"
      },
      "execution_count": null,
      "outputs": []
    },
    {
      "cell_type": "markdown",
      "source": [
        "7. Εκτυπώστε τον confusion matrix και για τους δύο ταξινομητές που εκπαιδεύσατε και ελέγξατε.\n"
      ],
      "metadata": {
        "id": "24PEwKu8fPVt"
      }
    },
    {
      "cell_type": "code",
      "source": [],
      "metadata": {
        "id": "39h9e96Wf4FF"
      },
      "execution_count": null,
      "outputs": []
    }
  ]
}